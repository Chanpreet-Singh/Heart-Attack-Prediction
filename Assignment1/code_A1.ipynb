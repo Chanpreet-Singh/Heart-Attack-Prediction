{
  "cells": [
    {
      "cell_type": "markdown",
      "metadata": {
        "id": "ubZ1ii6QtTAe"
      },
      "source": [
        "## Importing Libraries"
      ]
    },
    {
      "cell_type": "code",
      "execution_count": null,
      "metadata": {
        "id": "qwaF16jNdZ12"
      },
      "outputs": [],
      "source": [
        "import pandas as pd\n",
        "import matplotlib.pyplot as plt\n",
        "import numpy as np\n",
        "import seaborn as sns"
      ]
    },
    {
      "cell_type": "markdown",
      "metadata": {
        "id": "sb1beW1Zti_l"
      },
      "source": [
        "## Importing Dataset"
      ]
    },
    {
      "cell_type": "code",
      "execution_count": null,
      "metadata": {
        "id": "fq-VcbVO39Iu"
      },
      "outputs": [],
      "source": [
        "dfx = pd.read_csv('Test1.csv')"
      ]
    },
    {
      "cell_type": "code",
      "execution_count": null,
      "metadata": {
        "colab": {
          "base_uri": "https://localhost:8080/"
        },
        "id": "5-lORKl-4JNf",
        "outputId": "2750d87e-e9f8-492d-8be2-04bd08b5b150"
      },
      "outputs": [
        {
          "output_type": "execute_result",
          "data": {
            "text/plain": [
              "     Unnamed: 0                        Insurance_Type Diagnosed  \\\n",
              "0             0  Medicaid and Medicare Insurance Plan       Yes   \n",
              "1             1               Medicaid Insurance Plan        No   \n",
              "2             2               Medicaid Insurance Plan       Yes   \n",
              "3             3  Medicaid and Medicare Insurance Plan       Yes   \n",
              "4             4               Medicaid Insurance Plan        No   \n",
              "..          ...                                   ...       ...   \n",
              "408         408  Medicaid and Medicare Insurance Plan        No   \n",
              "409         409  Medicaid and Medicare Insurance Plan        No   \n",
              "410         410  Medicaid and Medicare Insurance Plan        No   \n",
              "411         411  Medicaid and Medicare Insurance Plan        No   \n",
              "412         412  Medicaid and Medicare Insurance Plan        No   \n",
              "\n",
              "                           Living_situation Housing_Utilities  \\\n",
              "0                 Live alone in my own home         sometimes   \n",
              "1     Live in a household with other people            rarely   \n",
              "2     Live in a household with other people             often   \n",
              "3     Live in a household with other people             often   \n",
              "4     Live in a household with other people             often   \n",
              "..                                      ...               ...   \n",
              "408               Live alone in my own home            Always   \n",
              "409   Live in a household with other people         sometimes   \n",
              "410   Live in a household with other people            rarely   \n",
              "411   Live in a household with other people             often   \n",
              "412               Live alone in my own home         sometimes   \n",
              "\n",
              "    Housing_Rent_Mortgage                          Empl_status  \\\n",
              "0               sometimes           Disabled, Not able to work   \n",
              "1                   Never                    Working full time   \n",
              "2                   often      Not working (looking for a job)   \n",
              "3                   often           Disabled, Not able to work   \n",
              "4                  Always  Not working (not looking for a job)   \n",
              "..                    ...                                  ...   \n",
              "408                 often                              Retired   \n",
              "409                rarely                              Retired   \n",
              "410                rarely                              Retired   \n",
              "411                 often                    Working full time   \n",
              "412                rarely                              Retired   \n",
              "\n",
              "          Empl_#hrs Empl_job_security  \\\n",
              "0               NaN               NaN   \n",
              "1     31 - 40 hours               NaN   \n",
              "2               NaN               NaN   \n",
              "3               NaN               NaN   \n",
              "4               NaN               NaN   \n",
              "..              ...               ...   \n",
              "408             NaN               NaN   \n",
              "409             NaN               NaN   \n",
              "410             NaN               NaN   \n",
              "411   31 - 40 hours         sometimes   \n",
              "412             NaN               NaN   \n",
              "\n",
              "                                      Edu_level  ...  \\\n",
              "0                    Some college but no degree  ...   \n",
              "1    High school degree or equivalent (eg. GED)  ...   \n",
              "2                    Some college but no degree  ...   \n",
              "3    High school degree or equivalent (eg. GED)  ...   \n",
              "4    High school degree or equivalent (eg. GED)  ...   \n",
              "..                                          ...  ...   \n",
              "408  High school degree or equivalent (eg. GED)  ...   \n",
              "409                            Associate degree  ...   \n",
              "410  High school degree or equivalent (eg. GED)  ...   \n",
              "411                            Bachelors degree  ...   \n",
              "412  High school degree or equivalent (eg. GED)  ...   \n",
              "\n",
              "                                Location Ethnicity          Marital_status  \\\n",
              "0     Suburban area around a larger city     White                 Married   \n",
              "1                             Rural area     White   Single, never married   \n",
              "2                        Urban city area     White   Single, never married   \n",
              "3                        Urban city area     White   Single, never married   \n",
              "4    Small town far outside a large city     White                 Married   \n",
              "..                                   ...       ...                     ...   \n",
              "408  Small town far outside a large city     White                 Divorce   \n",
              "409                           Rural area     White                 Married   \n",
              "410                           Rural area     White                 Married   \n",
              "411                      Urban city area     White                 Married   \n",
              "412                      Urban city area     White   Single, never married   \n",
              "\n",
              "                 Income Housing_security Health_literacy Transportation  \\\n",
              "0     $70,000 - $79,999             3.25             1.0           2.50   \n",
              "1     $20,000 - $29,999             1.75             2.0           2.50   \n",
              "2     $10,000 - $19,000             3.25             1.0           3.00   \n",
              "3     $20,000 - $29,999             3.00             1.0           3.75   \n",
              "4     $10,000 - $19,000             4.50             2.5           2.25   \n",
              "..                  ...              ...             ...            ...   \n",
              "408   $10,000 - $19,000             3.25             2.5           1.75   \n",
              "409   $20,000 - $29,999             1.75             2.5           1.00   \n",
              "410   $20,000 - $29,999             2.00             2.5           1.00   \n",
              "411   $50,000 - $59,999             4.50             2.5           2.25   \n",
              "412   Less than $10,000             1.75             1.0           1.00   \n",
              "\n",
              "    Community_saftey  Food_security  Social_engagement  \n",
              "0                2.0           2.25               2.75  \n",
              "1                1.2           1.75               3.00  \n",
              "2                3.0           3.75               3.75  \n",
              "3                3.6           2.00               4.75  \n",
              "4                2.6           2.75               5.00  \n",
              "..               ...            ...                ...  \n",
              "408              2.2           3.25               2.75  \n",
              "409              2.0           1.25               4.00  \n",
              "410              1.2           2.00               1.75  \n",
              "411              2.0           1.75               1.25  \n",
              "412              2.0           1.00               2.00  \n",
              "\n",
              "[413 rows x 24 columns]"
            ],
            "text/html": [
              "\n",
              "  <div id=\"df-ac2bdee1-36a5-4f38-8a8b-591edf24918c\">\n",
              "    <div class=\"colab-df-container\">\n",
              "      <div>\n",
              "<style scoped>\n",
              "    .dataframe tbody tr th:only-of-type {\n",
              "        vertical-align: middle;\n",
              "    }\n",
              "\n",
              "    .dataframe tbody tr th {\n",
              "        vertical-align: top;\n",
              "    }\n",
              "\n",
              "    .dataframe thead th {\n",
              "        text-align: right;\n",
              "    }\n",
              "</style>\n",
              "<table border=\"1\" class=\"dataframe\">\n",
              "  <thead>\n",
              "    <tr style=\"text-align: right;\">\n",
              "      <th></th>\n",
              "      <th>Unnamed: 0</th>\n",
              "      <th>Insurance_Type</th>\n",
              "      <th>Diagnosed</th>\n",
              "      <th>Living_situation</th>\n",
              "      <th>Housing_Utilities</th>\n",
              "      <th>Housing_Rent_Mortgage</th>\n",
              "      <th>Empl_status</th>\n",
              "      <th>Empl_#hrs</th>\n",
              "      <th>Empl_job_security</th>\n",
              "      <th>Edu_level</th>\n",
              "      <th>...</th>\n",
              "      <th>Location</th>\n",
              "      <th>Ethnicity</th>\n",
              "      <th>Marital_status</th>\n",
              "      <th>Income</th>\n",
              "      <th>Housing_security</th>\n",
              "      <th>Health_literacy</th>\n",
              "      <th>Transportation</th>\n",
              "      <th>Community_saftey</th>\n",
              "      <th>Food_security</th>\n",
              "      <th>Social_engagement</th>\n",
              "    </tr>\n",
              "  </thead>\n",
              "  <tbody>\n",
              "    <tr>\n",
              "      <th>0</th>\n",
              "      <td>0</td>\n",
              "      <td>Medicaid and Medicare Insurance Plan</td>\n",
              "      <td>Yes</td>\n",
              "      <td>Live alone in my own home</td>\n",
              "      <td>sometimes</td>\n",
              "      <td>sometimes</td>\n",
              "      <td>Disabled, Not able to work</td>\n",
              "      <td>NaN</td>\n",
              "      <td>NaN</td>\n",
              "      <td>Some college but no degree</td>\n",
              "      <td>...</td>\n",
              "      <td>Suburban area around a larger city</td>\n",
              "      <td>White</td>\n",
              "      <td>Married</td>\n",
              "      <td>$70,000 - $79,999</td>\n",
              "      <td>3.25</td>\n",
              "      <td>1.0</td>\n",
              "      <td>2.50</td>\n",
              "      <td>2.0</td>\n",
              "      <td>2.25</td>\n",
              "      <td>2.75</td>\n",
              "    </tr>\n",
              "    <tr>\n",
              "      <th>1</th>\n",
              "      <td>1</td>\n",
              "      <td>Medicaid Insurance Plan</td>\n",
              "      <td>No</td>\n",
              "      <td>Live in a household with other people</td>\n",
              "      <td>rarely</td>\n",
              "      <td>Never</td>\n",
              "      <td>Working full time</td>\n",
              "      <td>31 - 40 hours</td>\n",
              "      <td>NaN</td>\n",
              "      <td>High school degree or equivalent (eg. GED)</td>\n",
              "      <td>...</td>\n",
              "      <td>Rural area</td>\n",
              "      <td>White</td>\n",
              "      <td>Single, never married</td>\n",
              "      <td>$20,000 - $29,999</td>\n",
              "      <td>1.75</td>\n",
              "      <td>2.0</td>\n",
              "      <td>2.50</td>\n",
              "      <td>1.2</td>\n",
              "      <td>1.75</td>\n",
              "      <td>3.00</td>\n",
              "    </tr>\n",
              "    <tr>\n",
              "      <th>2</th>\n",
              "      <td>2</td>\n",
              "      <td>Medicaid Insurance Plan</td>\n",
              "      <td>Yes</td>\n",
              "      <td>Live in a household with other people</td>\n",
              "      <td>often</td>\n",
              "      <td>often</td>\n",
              "      <td>Not working (looking for a job)</td>\n",
              "      <td>NaN</td>\n",
              "      <td>NaN</td>\n",
              "      <td>Some college but no degree</td>\n",
              "      <td>...</td>\n",
              "      <td>Urban city area</td>\n",
              "      <td>White</td>\n",
              "      <td>Single, never married</td>\n",
              "      <td>$10,000 - $19,000</td>\n",
              "      <td>3.25</td>\n",
              "      <td>1.0</td>\n",
              "      <td>3.00</td>\n",
              "      <td>3.0</td>\n",
              "      <td>3.75</td>\n",
              "      <td>3.75</td>\n",
              "    </tr>\n",
              "    <tr>\n",
              "      <th>3</th>\n",
              "      <td>3</td>\n",
              "      <td>Medicaid and Medicare Insurance Plan</td>\n",
              "      <td>Yes</td>\n",
              "      <td>Live in a household with other people</td>\n",
              "      <td>often</td>\n",
              "      <td>often</td>\n",
              "      <td>Disabled, Not able to work</td>\n",
              "      <td>NaN</td>\n",
              "      <td>NaN</td>\n",
              "      <td>High school degree or equivalent (eg. GED)</td>\n",
              "      <td>...</td>\n",
              "      <td>Urban city area</td>\n",
              "      <td>White</td>\n",
              "      <td>Single, never married</td>\n",
              "      <td>$20,000 - $29,999</td>\n",
              "      <td>3.00</td>\n",
              "      <td>1.0</td>\n",
              "      <td>3.75</td>\n",
              "      <td>3.6</td>\n",
              "      <td>2.00</td>\n",
              "      <td>4.75</td>\n",
              "    </tr>\n",
              "    <tr>\n",
              "      <th>4</th>\n",
              "      <td>4</td>\n",
              "      <td>Medicaid Insurance Plan</td>\n",
              "      <td>No</td>\n",
              "      <td>Live in a household with other people</td>\n",
              "      <td>often</td>\n",
              "      <td>Always</td>\n",
              "      <td>Not working (not looking for a job)</td>\n",
              "      <td>NaN</td>\n",
              "      <td>NaN</td>\n",
              "      <td>High school degree or equivalent (eg. GED)</td>\n",
              "      <td>...</td>\n",
              "      <td>Small town far outside a large city</td>\n",
              "      <td>White</td>\n",
              "      <td>Married</td>\n",
              "      <td>$10,000 - $19,000</td>\n",
              "      <td>4.50</td>\n",
              "      <td>2.5</td>\n",
              "      <td>2.25</td>\n",
              "      <td>2.6</td>\n",
              "      <td>2.75</td>\n",
              "      <td>5.00</td>\n",
              "    </tr>\n",
              "    <tr>\n",
              "      <th>...</th>\n",
              "      <td>...</td>\n",
              "      <td>...</td>\n",
              "      <td>...</td>\n",
              "      <td>...</td>\n",
              "      <td>...</td>\n",
              "      <td>...</td>\n",
              "      <td>...</td>\n",
              "      <td>...</td>\n",
              "      <td>...</td>\n",
              "      <td>...</td>\n",
              "      <td>...</td>\n",
              "      <td>...</td>\n",
              "      <td>...</td>\n",
              "      <td>...</td>\n",
              "      <td>...</td>\n",
              "      <td>...</td>\n",
              "      <td>...</td>\n",
              "      <td>...</td>\n",
              "      <td>...</td>\n",
              "      <td>...</td>\n",
              "      <td>...</td>\n",
              "    </tr>\n",
              "    <tr>\n",
              "      <th>408</th>\n",
              "      <td>408</td>\n",
              "      <td>Medicaid and Medicare Insurance Plan</td>\n",
              "      <td>No</td>\n",
              "      <td>Live alone in my own home</td>\n",
              "      <td>Always</td>\n",
              "      <td>often</td>\n",
              "      <td>Retired</td>\n",
              "      <td>NaN</td>\n",
              "      <td>NaN</td>\n",
              "      <td>High school degree or equivalent (eg. GED)</td>\n",
              "      <td>...</td>\n",
              "      <td>Small town far outside a large city</td>\n",
              "      <td>White</td>\n",
              "      <td>Divorce</td>\n",
              "      <td>$10,000 - $19,000</td>\n",
              "      <td>3.25</td>\n",
              "      <td>2.5</td>\n",
              "      <td>1.75</td>\n",
              "      <td>2.2</td>\n",
              "      <td>3.25</td>\n",
              "      <td>2.75</td>\n",
              "    </tr>\n",
              "    <tr>\n",
              "      <th>409</th>\n",
              "      <td>409</td>\n",
              "      <td>Medicaid and Medicare Insurance Plan</td>\n",
              "      <td>No</td>\n",
              "      <td>Live in a household with other people</td>\n",
              "      <td>sometimes</td>\n",
              "      <td>rarely</td>\n",
              "      <td>Retired</td>\n",
              "      <td>NaN</td>\n",
              "      <td>NaN</td>\n",
              "      <td>Associate degree</td>\n",
              "      <td>...</td>\n",
              "      <td>Rural area</td>\n",
              "      <td>White</td>\n",
              "      <td>Married</td>\n",
              "      <td>$20,000 - $29,999</td>\n",
              "      <td>1.75</td>\n",
              "      <td>2.5</td>\n",
              "      <td>1.00</td>\n",
              "      <td>2.0</td>\n",
              "      <td>1.25</td>\n",
              "      <td>4.00</td>\n",
              "    </tr>\n",
              "    <tr>\n",
              "      <th>410</th>\n",
              "      <td>410</td>\n",
              "      <td>Medicaid and Medicare Insurance Plan</td>\n",
              "      <td>No</td>\n",
              "      <td>Live in a household with other people</td>\n",
              "      <td>rarely</td>\n",
              "      <td>rarely</td>\n",
              "      <td>Retired</td>\n",
              "      <td>NaN</td>\n",
              "      <td>NaN</td>\n",
              "      <td>High school degree or equivalent (eg. GED)</td>\n",
              "      <td>...</td>\n",
              "      <td>Rural area</td>\n",
              "      <td>White</td>\n",
              "      <td>Married</td>\n",
              "      <td>$20,000 - $29,999</td>\n",
              "      <td>2.00</td>\n",
              "      <td>2.5</td>\n",
              "      <td>1.00</td>\n",
              "      <td>1.2</td>\n",
              "      <td>2.00</td>\n",
              "      <td>1.75</td>\n",
              "    </tr>\n",
              "    <tr>\n",
              "      <th>411</th>\n",
              "      <td>411</td>\n",
              "      <td>Medicaid and Medicare Insurance Plan</td>\n",
              "      <td>No</td>\n",
              "      <td>Live in a household with other people</td>\n",
              "      <td>often</td>\n",
              "      <td>often</td>\n",
              "      <td>Working full time</td>\n",
              "      <td>31 - 40 hours</td>\n",
              "      <td>sometimes</td>\n",
              "      <td>Bachelors degree</td>\n",
              "      <td>...</td>\n",
              "      <td>Urban city area</td>\n",
              "      <td>White</td>\n",
              "      <td>Married</td>\n",
              "      <td>$50,000 - $59,999</td>\n",
              "      <td>4.50</td>\n",
              "      <td>2.5</td>\n",
              "      <td>2.25</td>\n",
              "      <td>2.0</td>\n",
              "      <td>1.75</td>\n",
              "      <td>1.25</td>\n",
              "    </tr>\n",
              "    <tr>\n",
              "      <th>412</th>\n",
              "      <td>412</td>\n",
              "      <td>Medicaid and Medicare Insurance Plan</td>\n",
              "      <td>No</td>\n",
              "      <td>Live alone in my own home</td>\n",
              "      <td>sometimes</td>\n",
              "      <td>rarely</td>\n",
              "      <td>Retired</td>\n",
              "      <td>NaN</td>\n",
              "      <td>NaN</td>\n",
              "      <td>High school degree or equivalent (eg. GED)</td>\n",
              "      <td>...</td>\n",
              "      <td>Urban city area</td>\n",
              "      <td>White</td>\n",
              "      <td>Single, never married</td>\n",
              "      <td>Less than $10,000</td>\n",
              "      <td>1.75</td>\n",
              "      <td>1.0</td>\n",
              "      <td>1.00</td>\n",
              "      <td>2.0</td>\n",
              "      <td>1.00</td>\n",
              "      <td>2.00</td>\n",
              "    </tr>\n",
              "  </tbody>\n",
              "</table>\n",
              "<p>413 rows × 24 columns</p>\n",
              "</div>\n",
              "      <button class=\"colab-df-convert\" onclick=\"convertToInteractive('df-ac2bdee1-36a5-4f38-8a8b-591edf24918c')\"\n",
              "              title=\"Convert this dataframe to an interactive table.\"\n",
              "              style=\"display:none;\">\n",
              "        \n",
              "  <svg xmlns=\"http://www.w3.org/2000/svg\" height=\"24px\"viewBox=\"0 0 24 24\"\n",
              "       width=\"24px\">\n",
              "    <path d=\"M0 0h24v24H0V0z\" fill=\"none\"/>\n",
              "    <path d=\"M18.56 5.44l.94 2.06.94-2.06 2.06-.94-2.06-.94-.94-2.06-.94 2.06-2.06.94zm-11 1L8.5 8.5l.94-2.06 2.06-.94-2.06-.94L8.5 2.5l-.94 2.06-2.06.94zm10 10l.94 2.06.94-2.06 2.06-.94-2.06-.94-.94-2.06-.94 2.06-2.06.94z\"/><path d=\"M17.41 7.96l-1.37-1.37c-.4-.4-.92-.59-1.43-.59-.52 0-1.04.2-1.43.59L10.3 9.45l-7.72 7.72c-.78.78-.78 2.05 0 2.83L4 21.41c.39.39.9.59 1.41.59.51 0 1.02-.2 1.41-.59l7.78-7.78 2.81-2.81c.8-.78.8-2.07 0-2.86zM5.41 20L4 18.59l7.72-7.72 1.47 1.35L5.41 20z\"/>\n",
              "  </svg>\n",
              "      </button>\n",
              "      \n",
              "  <style>\n",
              "    .colab-df-container {\n",
              "      display:flex;\n",
              "      flex-wrap:wrap;\n",
              "      gap: 12px;\n",
              "    }\n",
              "\n",
              "    .colab-df-convert {\n",
              "      background-color: #E8F0FE;\n",
              "      border: none;\n",
              "      border-radius: 50%;\n",
              "      cursor: pointer;\n",
              "      display: none;\n",
              "      fill: #1967D2;\n",
              "      height: 32px;\n",
              "      padding: 0 0 0 0;\n",
              "      width: 32px;\n",
              "    }\n",
              "\n",
              "    .colab-df-convert:hover {\n",
              "      background-color: #E2EBFA;\n",
              "      box-shadow: 0px 1px 2px rgba(60, 64, 67, 0.3), 0px 1px 3px 1px rgba(60, 64, 67, 0.15);\n",
              "      fill: #174EA6;\n",
              "    }\n",
              "\n",
              "    [theme=dark] .colab-df-convert {\n",
              "      background-color: #3B4455;\n",
              "      fill: #D2E3FC;\n",
              "    }\n",
              "\n",
              "    [theme=dark] .colab-df-convert:hover {\n",
              "      background-color: #434B5C;\n",
              "      box-shadow: 0px 1px 3px 1px rgba(0, 0, 0, 0.15);\n",
              "      filter: drop-shadow(0px 1px 2px rgba(0, 0, 0, 0.3));\n",
              "      fill: #FFFFFF;\n",
              "    }\n",
              "  </style>\n",
              "\n",
              "      <script>\n",
              "        const buttonEl =\n",
              "          document.querySelector('#df-ac2bdee1-36a5-4f38-8a8b-591edf24918c button.colab-df-convert');\n",
              "        buttonEl.style.display =\n",
              "          google.colab.kernel.accessAllowed ? 'block' : 'none';\n",
              "\n",
              "        async function convertToInteractive(key) {\n",
              "          const element = document.querySelector('#df-ac2bdee1-36a5-4f38-8a8b-591edf24918c');\n",
              "          const dataTable =\n",
              "            await google.colab.kernel.invokeFunction('convertToInteractive',\n",
              "                                                     [key], {});\n",
              "          if (!dataTable) return;\n",
              "\n",
              "          const docLinkHtml = 'Like what you see? Visit the ' +\n",
              "            '<a target=\"_blank\" href=https://colab.research.google.com/notebooks/data_table.ipynb>data table notebook</a>'\n",
              "            + ' to learn more about interactive tables.';\n",
              "          element.innerHTML = '';\n",
              "          dataTable['output_type'] = 'display_data';\n",
              "          await google.colab.output.renderOutput(dataTable, element);\n",
              "          const docLink = document.createElement('div');\n",
              "          docLink.innerHTML = docLinkHtml;\n",
              "          element.appendChild(docLink);\n",
              "        }\n",
              "      </script>\n",
              "    </div>\n",
              "  </div>\n",
              "  "
            ]
          },
          "metadata": {},
          "execution_count": 3
        }
      ],
      "source": [
        "dfx"
      ]
    },
    {
      "cell_type": "markdown",
      "source": [
        "# Radar Chart"
      ],
      "metadata": {
        "id": "R_tYoPTsVNkZ"
      }
    },
    {
      "cell_type": "code",
      "source": [
        "Category = ['Gender','Ethnicity',\n",
        "         'Marital_status','Health_drugs','exercise_wk','Age'\n",
        "         ]\n",
        "Category = [*Category, Category[0]]\n",
        "\n",
        "Person1 = [0,4,1,1,2,3]\n",
        "Person2 = [1,2,0,1,2,2]\n",
        "Person3 = [0,5,1,3,1,4]\n",
        "Person1 = [*Person1, Person1[0]]\n",
        "Person2 = [*Person2, Person2[0]]\n",
        "Person3 = [*Person3, Person3[0]]\n",
        "\n",
        "label_loc = np.linspace(start=0, stop=2 * np.pi, num=len(Person1))\n",
        "\n",
        "plt.figure(figsize=(8, 8))\n",
        "plt.subplot(polar=True)\n",
        "plt.plot(label_loc, Person1, label='Person1')\n",
        "plt.plot(label_loc, Person2, label='Person2')\n",
        "plt.plot(label_loc, Person3, label='Person3')\n",
        "plt.title('Three people comparison', size=20, y=1.05)\n",
        "lines, labels = plt.thetagrids(np.degrees(label_loc), labels=Category)\n",
        "plt.legend()\n",
        "plt.show()"
      ],
      "metadata": {
        "colab": {
          "base_uri": "https://localhost:8080/",
          "height": 509
        },
        "id": "bRj53AUpVNO0",
        "outputId": "2c22e6ee-9b03-4d1c-9d6c-d20808f417f2"
      },
      "execution_count": null,
      "outputs": [
        {
          "output_type": "display_data",
          "data": {
            "text/plain": [
              "<Figure size 576x576 with 1 Axes>"
            ],
            "image/png": "[encoded data removed]"
          },
          "metadata": {
            "needs_background": "light"
          }
        }
      ]
    },
    {
      "cell_type": "code",
      "execution_count": null,
      "metadata": {
        "colab": {
          "base_uri": "https://localhost:8080/"
        },
        "id": "Doc1PMSGL4Wa",
        "outputId": "af506cf1-be98-43f4-d55e-1590a876d436"
      },
      "outputs": [
        {
          "output_type": "execute_result",
          "data": {
            "text/plain": [
              "Unnamed: 0                 0\n",
              "Insurance_Type             0\n",
              "Diagnosed                  0\n",
              "Living_situation           0\n",
              "Housing_Utilities          0\n",
              "Housing_Rent_Mortgage      0\n",
              "Empl_status                0\n",
              "Empl_#hrs                270\n",
              "Empl_job_security        289\n",
              "Edu_level                  0\n",
              "Health_drugs             158\n",
              "exercise_wk              158\n",
              "Gender                     0\n",
              "Age                        0\n",
              "Location                   0\n",
              "Ethnicity                  0\n",
              "Marital_status             0\n",
              "Income                     0\n",
              "Housing_security           0\n",
              "Health_literacy            0\n",
              "Transportation             1\n",
              "Community_saftey           0\n",
              "Food_security              0\n",
              "Social_engagement          0\n",
              "dtype: int64"
            ]
          },
          "metadata": {},
          "execution_count": 5
        }
      ],
      "source": [
        "dfx.isnull().sum()"
      ]
    },
    {
      "cell_type": "markdown",
      "metadata": {
        "id": "0SiVdlYKtuHe"
      },
      "source": [
        "**Filling all the nulls with the most occurred value**"
      ]
    },
    {
      "cell_type": "code",
      "execution_count": null,
      "metadata": {
        "id": "nfJU4xjqLd07"
      },
      "outputs": [],
      "source": [
        "dfx = dfx.apply(lambda x:x.fillna(x.value_counts().index[0]))"
      ]
    },
    {
      "cell_type": "code",
      "execution_count": null,
      "metadata": {
        "id": "ZvoShurV4Ktb"
      },
      "outputs": [],
      "source": [
        "dfx.drop(['Unnamed: 0'], axis=1, inplace=True)"
      ]
    },
    {
      "cell_type": "markdown",
      "metadata": {
        "id": "WUXn3CYZvjz8"
      },
      "source": [
        "**Labelling all the non numeric categorical data using Label Encoder**"
      ]
    },
    {
      "cell_type": "code",
      "execution_count": null,
      "metadata": {
        "id": "nOnTKToY4yxk"
      },
      "outputs": [],
      "source": [
        "from sklearn.preprocessing import LabelEncoder\n",
        "le = LabelEncoder()\n",
        "Categ = ['Insurance_Type','Diagnosed','Income','Living_situation','Empl_#hrs','Housing_Utilities',\n",
        "         'Housing_Rent_Mortgage','Empl_status','Edu_level','Gender','Location','Ethnicity',\n",
        "         'Marital_status','Empl_job_security','Health_drugs','exercise_wk','Age'\n",
        "         ]\n",
        "dfx[Categ] = dfx[Categ].apply(le.fit_transform)"
      ]
    },
    {
      "cell_type": "code",
      "execution_count": null,
      "metadata": {
        "colab": {
          "base_uri": "https://localhost:8080/"
        },
        "id": "JX_1dTPWUgmx",
        "outputId": "5b9d7f81-def9-48d9-e50d-7691ec0837b9"
      },
      "outputs": [
        {
          "output_type": "stream",
          "name": "stdout",
          "text": [
            "[' 35 - 44 year', '25 - 34 years', '45 - 54 years', '55 - 64 years', '65 or older years']\n"
          ]
        }
      ],
      "source": [
        "print( list (le.classes_) )"
      ]
    },
    {
      "cell_type": "code",
      "execution_count": null,
      "metadata": {
        "colab": {
          "base_uri": "https://localhost:8080/"
        },
        "id": "RV1g8x4lk47V",
        "outputId": "6b63fb8e-b9bc-4e5e-c251-f4d8a8774588"
      },
      "outputs": [
        {
          "output_type": "execute_result",
          "data": {
            "text/plain": [
              "Insurance_Type             int64\n",
              "Diagnosed                  int64\n",
              "Living_situation           int64\n",
              "Housing_Utilities          int64\n",
              "Housing_Rent_Mortgage      int64\n",
              "Empl_status                int64\n",
              "Empl_#hrs                  int64\n",
              "Empl_job_security          int64\n",
              "Edu_level                  int64\n",
              "Health_drugs               int64\n",
              "exercise_wk                int64\n",
              "Gender                     int64\n",
              "Age                        int64\n",
              "Location                   int64\n",
              "Ethnicity                  int64\n",
              "Marital_status             int64\n",
              "Income                     int64\n",
              "Housing_security         float64\n",
              "Health_literacy          float64\n",
              "Transportation           float64\n",
              "Community_saftey         float64\n",
              "Food_security            float64\n",
              "Social_engagement        float64\n",
              "dtype: object"
            ]
          },
          "metadata": {},
          "execution_count": 10
        }
      ],
      "source": [
        "dfx.dtypes"
      ]
    },
    {
      "cell_type": "code",
      "execution_count": null,
      "metadata": {
        "colab": {
          "base_uri": "https://localhost:8080/"
        },
        "id": "8c7M0-Rzj93H",
        "outputId": "3dd723e2-a300-439a-bae6-15d9e3034046"
      },
      "outputs": [
        {
          "output_type": "stream",
          "name": "stdout",
          "text": [
            "{'Insurance_Type': {0: 0, 1: 1}, 'Diagnosed': {0: 0, 1: 1}, 'Living_situation': {0: 0, 1: 1, 2: 2, 3: 3, 4: 4, 5: 5, 6: 6}, 'Housing_Utilities': {0: 0, 1: 1, 2: 2, 3: 3, 4: 4}, 'Housing_Rent_Mortgage': {0: 0, 1: 1, 2: 2, 3: 3, 4: 4}, 'Empl_status': {0: 0, 1: 1, 2: 2, 3: 3, 4: 4, 5: 5, 6: 6}, 'Empl_#hrs': {0: 0, 1: 1, 2: 2, 3: 3, 4: 4}, 'Empl_job_security': {0: 0, 1: 1, 2: 2, 3: 3, 4: 4}, 'Edu_level': {0: 0, 1: 1, 2: 2, 3: 3, 4: 4, 5: 5}, 'Health_drugs': {0: 0, 1: 1, 2: 2, 3: 3, 4: 4}, 'exercise_wk': {0: 0, 1: 1, 2: 2, 3: 3, 4: 4, 5: 5}, 'Gender': {0: 0, 1: 1, 2: 2}, 'Age': {0: 0, 1: 1, 2: 2, 3: 3, 4: 4}, 'Location': {0: 0, 1: 1, 2: 2, 3: 3}, 'Ethnicity': {0: 0, 1: 1, 2: 2, 3: 3, 4: 4, 5: 5}, 'Marital_status': {0: 0, 1: 1, 2: 2, 3: 3, 4: 4, 5: 5}, 'Income': {0: 0, 1: 1, 2: 2, 3: 3, 4: 4, 5: 5, 6: 6, 7: 7, 8: 8, 9: 9, 10: 10}, 'Housing_security': {0: 1.0, 1: 1.25, 2: 1.5, 3: 1.75, 4: 2.0, 5: 2.25, 6: 2.5, 7: 2.75, 8: 3.0, 9: 3.25, 10: 3.5, 11: 3.75, 12: 4.0, 13: 4.25, 14: 4.5, 15: 4.75, 16: 5.0}, 'Health_literacy': {0: 1.0, 1: 1.5, 2: 2.0, 3: 2.5, 4: 3.0, 5: 3.5, 6: 4.0, 7: 4.5, 8: 5.0}, 'Transportation': {0: 1.0, 1: 1.25, 2: 1.5, 3: 1.75, 4: 2.0, 5: 2.25, 6: 2.5, 7: 2.75, 8: 3.0, 9: 3.25, 10: 3.5, 11: 3.75, 12: 4.0, 13: 4.25, 14: 4.5, 15: 4.75, 16: 5.0}, 'Community_saftey': {0: 1.0, 1: 1.2, 2: 1.4, 3: 1.6, 4: 1.8, 5: 2.0, 6: 2.2, 7: 2.4, 8: 2.6, 9: 2.8, 10: 3.0, 11: 3.2, 12: 3.4, 13: 3.6, 14: 3.8, 15: 4.0, 16: 4.2, 17: 4.4, 18: 4.6, 19: 4.8, 20: 5.0}, 'Food_security': {0: 1.0, 1: 1.25, 2: 1.5, 3: 1.75, 4: 2.0, 5: 2.25, 6: 2.5, 7: 2.75, 8: 3.0, 9: 3.25, 10: 3.5, 11: 3.75, 12: 4.0, 13: 4.25, 14: 4.5, 15: 4.75, 16: 5.0}, 'Social_engagement': {0: 1.0, 1: 1.25, 2: 1.5, 3: 1.75, 4: 2.0, 5: 2.25, 6: 2.5, 7: 2.75, 8: 3.0, 9: 3.25, 10: 3.5, 11: 3.75, 12: 4.0, 13: 4.25, 14: 4.5, 15: 4.75, 16: 5.0}}\n"
          ]
        }
      ],
      "source": [
        "print({col: {n: cat for n, cat in enumerate(dfx[col].astype('category').cat.categories)} \n",
        "     for col in dfx})"
      ]
    },
    {
      "cell_type": "code",
      "execution_count": null,
      "metadata": {
        "colab": {
          "base_uri": "https://localhost:8080/",
          "height": 456
        },
        "id": "ThQXHfCiEnwI",
        "outputId": "1a5dc4f2-6cb3-4b5b-bb81-27773ad28981"
      },
      "outputs": [
        {
          "output_type": "execute_result",
          "data": {
            "text/plain": [
              "   Insurance_Type  Diagnosed  Living_situation  Housing_Utilities  \\\n",
              "0               1          1                 2                  4   \n",
              "1               0          0                 0                  3   \n",
              "2               0          1                 0                  2   \n",
              "3               1          1                 0                  2   \n",
              "4               0          0                 0                  2   \n",
              "5               0          1                 2                  1   \n",
              "6               0          0                 2                  1   \n",
              "7               1          0                 0                  4   \n",
              "8               0          0                 0                  4   \n",
              "9               0          1                 0                  3   \n",
              "\n",
              "   Housing_Rent_Mortgage  Empl_status  Empl_#hrs  Empl_job_security  \\\n",
              "0                      4            2          1                  4   \n",
              "1                      1            6          1                  4   \n",
              "2                      2            0          1                  4   \n",
              "3                      2            2          1                  4   \n",
              "4                      0            3          1                  4   \n",
              "5                      0            6          1                  4   \n",
              "6                      1            6          2                  4   \n",
              "7                      4            1          0                  4   \n",
              "8                      4            0          1                  4   \n",
              "9                      3            5          1                  4   \n",
              "\n",
              "   Edu_level  Health_drugs  ...  Location  Ethnicity  Marital_status  Income  \\\n",
              "0          5             1  ...         3          5               5       6   \n",
              "1          4             1  ...         1          5               2       1   \n",
              "2          5             1  ...         0          5               2       0   \n",
              "3          4             1  ...         0          5               2       1   \n",
              "4          4             1  ...         2          5               5       0   \n",
              "5          1             1  ...         3          5               2       3   \n",
              "6          2             1  ...         3          4               2       5   \n",
              "7          4             1  ...         1          4               2       8   \n",
              "8          1             1  ...         0          4               2       1   \n",
              "9          5             1  ...         0          4               5       1   \n",
              "\n",
              "   Housing_security  Health_literacy  Transportation  Community_saftey  \\\n",
              "0              3.25              1.0            2.50               2.0   \n",
              "1              1.75              2.0            2.50               1.2   \n",
              "2              3.25              1.0            3.00               3.0   \n",
              "3              3.00              1.0            3.75               3.6   \n",
              "4              4.50              2.5            2.25               2.6   \n",
              "5              2.00              1.0            1.00               2.2   \n",
              "6              1.00              2.0            1.00               1.0   \n",
              "7              2.00              1.0            1.00               1.4   \n",
              "8              3.25              1.0            3.75               2.6   \n",
              "9              2.50              3.0            2.50               1.0   \n",
              "\n",
              "   Food_security  Social_engagement  \n",
              "0           2.25               2.75  \n",
              "1           1.75               3.00  \n",
              "2           3.75               3.75  \n",
              "3           2.00               4.75  \n",
              "4           2.75               5.00  \n",
              "5           3.00               3.00  \n",
              "6           1.00               2.25  \n",
              "7           3.00               1.50  \n",
              "8           2.75               3.00  \n",
              "9           2.50               2.75  \n",
              "\n",
              "[10 rows x 23 columns]"
            ],
            "text/html": [
              "\n",
              "  <div id=\"df-b0e32fa9-1f80-4e69-b697-0df36d56e8c7\">\n",
              "    <div class=\"colab-df-container\">\n",
              "      <div>\n",
              "<style scoped>\n",
              "    .dataframe tbody tr th:only-of-type {\n",
              "        vertical-align: middle;\n",
              "    }\n",
              "\n",
              "    .dataframe tbody tr th {\n",
              "        vertical-align: top;\n",
              "    }\n",
              "\n",
              "    .dataframe thead th {\n",
              "        text-align: right;\n",
              "    }\n",
              "</style>\n",
              "<table border=\"1\" class=\"dataframe\">\n",
              "  <thead>\n",
              "    <tr style=\"text-align: right;\">\n",
              "      <th></th>\n",
              "      <th>Insurance_Type</th>\n",
              "      <th>Diagnosed</th>\n",
              "      <th>Living_situation</th>\n",
              "      <th>Housing_Utilities</th>\n",
              "      <th>Housing_Rent_Mortgage</th>\n",
              "      <th>Empl_status</th>\n",
              "      <th>Empl_#hrs</th>\n",
              "      <th>Empl_job_security</th>\n",
              "      <th>Edu_level</th>\n",
              "      <th>Health_drugs</th>\n",
              "      <th>...</th>\n",
              "      <th>Location</th>\n",
              "      <th>Ethnicity</th>\n",
              "      <th>Marital_status</th>\n",
              "      <th>Income</th>\n",
              "      <th>Housing_security</th>\n",
              "      <th>Health_literacy</th>\n",
              "      <th>Transportation</th>\n",
              "      <th>Community_saftey</th>\n",
              "      <th>Food_security</th>\n",
              "      <th>Social_engagement</th>\n",
              "    </tr>\n",
              "  </thead>\n",
              "  <tbody>\n",
              "    <tr>\n",
              "      <th>0</th>\n",
              "      <td>1</td>\n",
              "      <td>1</td>\n",
              "      <td>2</td>\n",
              "      <td>4</td>\n",
              "      <td>4</td>\n",
              "      <td>2</td>\n",
              "      <td>1</td>\n",
              "      <td>4</td>\n",
              "      <td>5</td>\n",
              "      <td>1</td>\n",
              "      <td>...</td>\n",
              "      <td>3</td>\n",
              "      <td>5</td>\n",
              "      <td>5</td>\n",
              "      <td>6</td>\n",
              "      <td>3.25</td>\n",
              "      <td>1.0</td>\n",
              "      <td>2.50</td>\n",
              "      <td>2.0</td>\n",
              "      <td>2.25</td>\n",
              "      <td>2.75</td>\n",
              "    </tr>\n",
              "    <tr>\n",
              "      <th>1</th>\n",
              "      <td>0</td>\n",
              "      <td>0</td>\n",
              "      <td>0</td>\n",
              "      <td>3</td>\n",
              "      <td>1</td>\n",
              "      <td>6</td>\n",
              "      <td>1</td>\n",
              "      <td>4</td>\n",
              "      <td>4</td>\n",
              "      <td>1</td>\n",
              "      <td>...</td>\n",
              "      <td>1</td>\n",
              "      <td>5</td>\n",
              "      <td>2</td>\n",
              "      <td>1</td>\n",
              "      <td>1.75</td>\n",
              "      <td>2.0</td>\n",
              "      <td>2.50</td>\n",
              "      <td>1.2</td>\n",
              "      <td>1.75</td>\n",
              "      <td>3.00</td>\n",
              "    </tr>\n",
              "    <tr>\n",
              "      <th>2</th>\n",
              "      <td>0</td>\n",
              "      <td>1</td>\n",
              "      <td>0</td>\n",
              "      <td>2</td>\n",
              "      <td>2</td>\n",
              "      <td>0</td>\n",
              "      <td>1</td>\n",
              "      <td>4</td>\n",
              "      <td>5</td>\n",
              "      <td>1</td>\n",
              "      <td>...</td>\n",
              "      <td>0</td>\n",
              "      <td>5</td>\n",
              "      <td>2</td>\n",
              "      <td>0</td>\n",
              "      <td>3.25</td>\n",
              "      <td>1.0</td>\n",
              "      <td>3.00</td>\n",
              "      <td>3.0</td>\n",
              "      <td>3.75</td>\n",
              "      <td>3.75</td>\n",
              "    </tr>\n",
              "    <tr>\n",
              "      <th>3</th>\n",
              "      <td>1</td>\n",
              "      <td>1</td>\n",
              "      <td>0</td>\n",
              "      <td>2</td>\n",
              "      <td>2</td>\n",
              "      <td>2</td>\n",
              "      <td>1</td>\n",
              "      <td>4</td>\n",
              "      <td>4</td>\n",
              "      <td>1</td>\n",
              "      <td>...</td>\n",
              "      <td>0</td>\n",
              "      <td>5</td>\n",
              "      <td>2</td>\n",
              "      <td>1</td>\n",
              "      <td>3.00</td>\n",
              "      <td>1.0</td>\n",
              "      <td>3.75</td>\n",
              "      <td>3.6</td>\n",
              "      <td>2.00</td>\n",
              "      <td>4.75</td>\n",
              "    </tr>\n",
              "    <tr>\n",
              "      <th>4</th>\n",
              "      <td>0</td>\n",
              "      <td>0</td>\n",
              "      <td>0</td>\n",
              "      <td>2</td>\n",
              "      <td>0</td>\n",
              "      <td>3</td>\n",
              "      <td>1</td>\n",
              "      <td>4</td>\n",
              "      <td>4</td>\n",
              "      <td>1</td>\n",
              "      <td>...</td>\n",
              "      <td>2</td>\n",
              "      <td>5</td>\n",
              "      <td>5</td>\n",
              "      <td>0</td>\n",
              "      <td>4.50</td>\n",
              "      <td>2.5</td>\n",
              "      <td>2.25</td>\n",
              "      <td>2.6</td>\n",
              "      <td>2.75</td>\n",
              "      <td>5.00</td>\n",
              "    </tr>\n",
              "    <tr>\n",
              "      <th>5</th>\n",
              "      <td>0</td>\n",
              "      <td>1</td>\n",
              "      <td>2</td>\n",
              "      <td>1</td>\n",
              "      <td>0</td>\n",
              "      <td>6</td>\n",
              "      <td>1</td>\n",
              "      <td>4</td>\n",
              "      <td>1</td>\n",
              "      <td>1</td>\n",
              "      <td>...</td>\n",
              "      <td>3</td>\n",
              "      <td>5</td>\n",
              "      <td>2</td>\n",
              "      <td>3</td>\n",
              "      <td>2.00</td>\n",
              "      <td>1.0</td>\n",
              "      <td>1.00</td>\n",
              "      <td>2.2</td>\n",
              "      <td>3.00</td>\n",
              "      <td>3.00</td>\n",
              "    </tr>\n",
              "    <tr>\n",
              "      <th>6</th>\n",
              "      <td>0</td>\n",
              "      <td>0</td>\n",
              "      <td>2</td>\n",
              "      <td>1</td>\n",
              "      <td>1</td>\n",
              "      <td>6</td>\n",
              "      <td>2</td>\n",
              "      <td>4</td>\n",
              "      <td>2</td>\n",
              "      <td>1</td>\n",
              "      <td>...</td>\n",
              "      <td>3</td>\n",
              "      <td>4</td>\n",
              "      <td>2</td>\n",
              "      <td>5</td>\n",
              "      <td>1.00</td>\n",
              "      <td>2.0</td>\n",
              "      <td>1.00</td>\n",
              "      <td>1.0</td>\n",
              "      <td>1.00</td>\n",
              "      <td>2.25</td>\n",
              "    </tr>\n",
              "    <tr>\n",
              "      <th>7</th>\n",
              "      <td>1</td>\n",
              "      <td>0</td>\n",
              "      <td>0</td>\n",
              "      <td>4</td>\n",
              "      <td>4</td>\n",
              "      <td>1</td>\n",
              "      <td>0</td>\n",
              "      <td>4</td>\n",
              "      <td>4</td>\n",
              "      <td>1</td>\n",
              "      <td>...</td>\n",
              "      <td>1</td>\n",
              "      <td>4</td>\n",
              "      <td>2</td>\n",
              "      <td>8</td>\n",
              "      <td>2.00</td>\n",
              "      <td>1.0</td>\n",
              "      <td>1.00</td>\n",
              "      <td>1.4</td>\n",
              "      <td>3.00</td>\n",
              "      <td>1.50</td>\n",
              "    </tr>\n",
              "    <tr>\n",
              "      <th>8</th>\n",
              "      <td>0</td>\n",
              "      <td>0</td>\n",
              "      <td>0</td>\n",
              "      <td>4</td>\n",
              "      <td>4</td>\n",
              "      <td>0</td>\n",
              "      <td>1</td>\n",
              "      <td>4</td>\n",
              "      <td>1</td>\n",
              "      <td>1</td>\n",
              "      <td>...</td>\n",
              "      <td>0</td>\n",
              "      <td>4</td>\n",
              "      <td>2</td>\n",
              "      <td>1</td>\n",
              "      <td>3.25</td>\n",
              "      <td>1.0</td>\n",
              "      <td>3.75</td>\n",
              "      <td>2.6</td>\n",
              "      <td>2.75</td>\n",
              "      <td>3.00</td>\n",
              "    </tr>\n",
              "    <tr>\n",
              "      <th>9</th>\n",
              "      <td>0</td>\n",
              "      <td>1</td>\n",
              "      <td>0</td>\n",
              "      <td>3</td>\n",
              "      <td>3</td>\n",
              "      <td>5</td>\n",
              "      <td>1</td>\n",
              "      <td>4</td>\n",
              "      <td>5</td>\n",
              "      <td>1</td>\n",
              "      <td>...</td>\n",
              "      <td>0</td>\n",
              "      <td>4</td>\n",
              "      <td>5</td>\n",
              "      <td>1</td>\n",
              "      <td>2.50</td>\n",
              "      <td>3.0</td>\n",
              "      <td>2.50</td>\n",
              "      <td>1.0</td>\n",
              "      <td>2.50</td>\n",
              "      <td>2.75</td>\n",
              "    </tr>\n",
              "  </tbody>\n",
              "</table>\n",
              "<p>10 rows × 23 columns</p>\n",
              "</div>\n",
              "      <button class=\"colab-df-convert\" onclick=\"convertToInteractive('df-b0e32fa9-1f80-4e69-b697-0df36d56e8c7')\"\n",
              "              title=\"Convert this dataframe to an interactive table.\"\n",
              "              style=\"display:none;\">\n",
              "        \n",
              "  <svg xmlns=\"http://www.w3.org/2000/svg\" height=\"24px\"viewBox=\"0 0 24 24\"\n",
              "       width=\"24px\">\n",
              "    <path d=\"M0 0h24v24H0V0z\" fill=\"none\"/>\n",
              "    <path d=\"M18.56 5.44l.94 2.06.94-2.06 2.06-.94-2.06-.94-.94-2.06-.94 2.06-2.06.94zm-11 1L8.5 8.5l.94-2.06 2.06-.94-2.06-.94L8.5 2.5l-.94 2.06-2.06.94zm10 10l.94 2.06.94-2.06 2.06-.94-2.06-.94-.94-2.06-.94 2.06-2.06.94z\"/><path d=\"M17.41 7.96l-1.37-1.37c-.4-.4-.92-.59-1.43-.59-.52 0-1.04.2-1.43.59L10.3 9.45l-7.72 7.72c-.78.78-.78 2.05 0 2.83L4 21.41c.39.39.9.59 1.41.59.51 0 1.02-.2 1.41-.59l7.78-7.78 2.81-2.81c.8-.78.8-2.07 0-2.86zM5.41 20L4 18.59l7.72-7.72 1.47 1.35L5.41 20z\"/>\n",
              "  </svg>\n",
              "      </button>\n",
              "      \n",
              "  <style>\n",
              "    .colab-df-container {\n",
              "      display:flex;\n",
              "      flex-wrap:wrap;\n",
              "      gap: 12px;\n",
              "    }\n",
              "\n",
              "    .colab-df-convert {\n",
              "      background-color: #E8F0FE;\n",
              "      border: none;\n",
              "      border-radius: 50%;\n",
              "      cursor: pointer;\n",
              "      display: none;\n",
              "      fill: #1967D2;\n",
              "      height: 32px;\n",
              "      padding: 0 0 0 0;\n",
              "      width: 32px;\n",
              "    }\n",
              "\n",
              "    .colab-df-convert:hover {\n",
              "      background-color: #E2EBFA;\n",
              "      box-shadow: 0px 1px 2px rgba(60, 64, 67, 0.3), 0px 1px 3px 1px rgba(60, 64, 67, 0.15);\n",
              "      fill: #174EA6;\n",
              "    }\n",
              "\n",
              "    [theme=dark] .colab-df-convert {\n",
              "      background-color: #3B4455;\n",
              "      fill: #D2E3FC;\n",
              "    }\n",
              "\n",
              "    [theme=dark] .colab-df-convert:hover {\n",
              "      background-color: #434B5C;\n",
              "      box-shadow: 0px 1px 3px 1px rgba(0, 0, 0, 0.15);\n",
              "      filter: drop-shadow(0px 1px 2px rgba(0, 0, 0, 0.3));\n",
              "      fill: #FFFFFF;\n",
              "    }\n",
              "  </style>\n",
              "\n",
              "      <script>\n",
              "        const buttonEl =\n",
              "          document.querySelector('#df-b0e32fa9-1f80-4e69-b697-0df36d56e8c7 button.colab-df-convert');\n",
              "        buttonEl.style.display =\n",
              "          google.colab.kernel.accessAllowed ? 'block' : 'none';\n",
              "\n",
              "        async function convertToInteractive(key) {\n",
              "          const element = document.querySelector('#df-b0e32fa9-1f80-4e69-b697-0df36d56e8c7');\n",
              "          const dataTable =\n",
              "            await google.colab.kernel.invokeFunction('convertToInteractive',\n",
              "                                                     [key], {});\n",
              "          if (!dataTable) return;\n",
              "\n",
              "          const docLinkHtml = 'Like what you see? Visit the ' +\n",
              "            '<a target=\"_blank\" href=https://colab.research.google.com/notebooks/data_table.ipynb>data table notebook</a>'\n",
              "            + ' to learn more about interactive tables.';\n",
              "          element.innerHTML = '';\n",
              "          dataTable['output_type'] = 'display_data';\n",
              "          await google.colab.output.renderOutput(dataTable, element);\n",
              "          const docLink = document.createElement('div');\n",
              "          docLink.innerHTML = docLinkHtml;\n",
              "          element.appendChild(docLink);\n",
              "        }\n",
              "      </script>\n",
              "    </div>\n",
              "  </div>\n",
              "  "
            ]
          },
          "metadata": {},
          "execution_count": 12
        }
      ],
      "source": [
        "dfx.head(10)"
      ]
    },
    {
      "cell_type": "code",
      "execution_count": null,
      "metadata": {
        "id": "QAMryQ_jGB8K",
        "colab": {
          "base_uri": "https://localhost:8080/"
        },
        "outputId": "6b47b50e-c357-4a20-8a33-33f2dc219311"
      },
      "outputs": [
        {
          "output_type": "execute_result",
          "data": {
            "text/plain": [
              "[0, 2, 1, 0, 6, 1, 4, 1, 1, 4, 0, 0, 3, 5, 2, 3, 2.0, 1.0, 1.0, 2.2, 3.0, 3.0]"
            ]
          },
          "metadata": {},
          "execution_count": 13
        }
      ],
      "source": [
        "[0,2,1,0,6,1,4,1,1,4,0,0,3,5,2,3,2.00,1.0,1.00,2.2,3.00,3.00]"
      ]
    },
    {
      "cell_type": "code",
      "execution_count": null,
      "metadata": {
        "colab": {
          "base_uri": "https://localhost:8080/"
        },
        "id": "XWWW3mvOCndR",
        "outputId": "5d42071b-c9dc-4523-b377-343159c6949b"
      },
      "outputs": [
        {
          "output_type": "execute_result",
          "data": {
            "text/plain": [
              "['Age',\n",
              " 'Community_saftey',\n",
              " 'Diagnosed',\n",
              " 'Edu_level',\n",
              " 'Empl_job_security',\n",
              " 'Empl_status',\n",
              " 'Ethnicity',\n",
              " 'Food_security',\n",
              " 'Gender',\n",
              " 'Health_drugs',\n",
              " 'Health_literacy',\n",
              " 'Housing_Rent_Mortgage',\n",
              " 'Housing_Utilities',\n",
              " 'Housing_security',\n",
              " 'Income',\n",
              " 'Insurance_Type',\n",
              " 'Living_situation',\n",
              " 'Location',\n",
              " 'Marital_status',\n",
              " 'Social_engagement',\n",
              " 'T',\n",
              " 'Transportation',\n",
              " '_AXIS_LEN',\n",
              " '_AXIS_ORDERS',\n",
              " '_AXIS_REVERSED',\n",
              " '_AXIS_TO_AXIS_NUMBER',\n",
              " '_HANDLED_TYPES',\n",
              " '__abs__',\n",
              " '__add__',\n",
              " '__and__',\n",
              " '__annotations__',\n",
              " '__array__',\n",
              " '__array_priority__',\n",
              " '__array_ufunc__',\n",
              " '__array_wrap__',\n",
              " '__bool__',\n",
              " '__class__',\n",
              " '__contains__',\n",
              " '__copy__',\n",
              " '__deepcopy__',\n",
              " '__delattr__',\n",
              " '__delitem__',\n",
              " '__dict__',\n",
              " '__dir__',\n",
              " '__divmod__',\n",
              " '__doc__',\n",
              " '__eq__',\n",
              " '__finalize__',\n",
              " '__floordiv__',\n",
              " '__format__',\n",
              " '__ge__',\n",
              " '__getattr__',\n",
              " '__getattribute__',\n",
              " '__getitem__',\n",
              " '__getstate__',\n",
              " '__gt__',\n",
              " '__hash__',\n",
              " '__iadd__',\n",
              " '__iand__',\n",
              " '__ifloordiv__',\n",
              " '__imod__',\n",
              " '__imul__',\n",
              " '__init__',\n",
              " '__init_subclass__',\n",
              " '__invert__',\n",
              " '__ior__',\n",
              " '__ipow__',\n",
              " '__isub__',\n",
              " '__iter__',\n",
              " '__itruediv__',\n",
              " '__ixor__',\n",
              " '__le__',\n",
              " '__len__',\n",
              " '__lt__',\n",
              " '__matmul__',\n",
              " '__mod__',\n",
              " '__module__',\n",
              " '__mul__',\n",
              " '__ne__',\n",
              " '__neg__',\n",
              " '__new__',\n",
              " '__nonzero__',\n",
              " '__or__',\n",
              " '__pos__',\n",
              " '__pow__',\n",
              " '__radd__',\n",
              " '__rand__',\n",
              " '__rdivmod__',\n",
              " '__reduce__',\n",
              " '__reduce_ex__',\n",
              " '__repr__',\n",
              " '__rfloordiv__',\n",
              " '__rmatmul__',\n",
              " '__rmod__',\n",
              " '__rmul__',\n",
              " '__ror__',\n",
              " '__round__',\n",
              " '__rpow__',\n",
              " '__rsub__',\n",
              " '__rtruediv__',\n",
              " '__rxor__',\n",
              " '__setattr__',\n",
              " '__setitem__',\n",
              " '__setstate__',\n",
              " '__sizeof__',\n",
              " '__str__',\n",
              " '__sub__',\n",
              " '__subclasshook__',\n",
              " '__truediv__',\n",
              " '__weakref__',\n",
              " '__xor__',\n",
              " '_accessors',\n",
              " '_accum_func',\n",
              " '_add_numeric_operations',\n",
              " '_agg_by_level',\n",
              " '_agg_examples_doc',\n",
              " '_agg_summary_and_see_also_doc',\n",
              " '_align_frame',\n",
              " '_align_series',\n",
              " '_arith_method',\n",
              " '_as_manager',\n",
              " '_attrs',\n",
              " '_box_col_values',\n",
              " '_can_fast_transpose',\n",
              " '_check_inplace_and_allows_duplicate_labels',\n",
              " '_check_inplace_setting',\n",
              " '_check_is_chained_assignment_possible',\n",
              " '_check_label_or_level_ambiguity',\n",
              " '_check_setitem_copy',\n",
              " '_clear_item_cache',\n",
              " '_clip_with_one_bound',\n",
              " '_clip_with_scalar',\n",
              " '_cmp_method',\n",
              " '_combine_frame',\n",
              " '_consolidate',\n",
              " '_consolidate_inplace',\n",
              " '_construct_axes_dict',\n",
              " '_construct_axes_from_arguments',\n",
              " '_construct_result',\n",
              " '_constructor',\n",
              " '_constructor_sliced',\n",
              " '_convert',\n",
              " '_count_level',\n",
              " '_data',\n",
              " '_dir_additions',\n",
              " '_dir_deletions',\n",
              " '_dispatch_frame_op',\n",
              " '_drop_axis',\n",
              " '_drop_labels_or_levels',\n",
              " '_ensure_valid_index',\n",
              " '_find_valid_index',\n",
              " '_flags',\n",
              " '_from_arrays',\n",
              " '_from_mgr',\n",
              " '_get_agg_axis',\n",
              " '_get_axis',\n",
              " '_get_axis_name',\n",
              " '_get_axis_number',\n",
              " '_get_axis_resolvers',\n",
              " '_get_block_manager_axis',\n",
              " '_get_bool_data',\n",
              " '_get_cleaned_column_resolvers',\n",
              " '_get_column_array',\n",
              " '_get_index_resolvers',\n",
              " '_get_item_cache',\n",
              " '_get_label_or_level_values',\n",
              " '_get_numeric_data',\n",
              " '_get_value',\n",
              " '_getitem_bool_array',\n",
              " '_getitem_multilevel',\n",
              " '_gotitem',\n",
              " '_hidden_attrs',\n",
              " '_indexed_same',\n",
              " '_info_axis',\n",
              " '_info_axis_name',\n",
              " '_info_axis_number',\n",
              " '_info_repr',\n",
              " '_init_mgr',\n",
              " '_inplace_method',\n",
              " '_internal_names',\n",
              " '_internal_names_set',\n",
              " '_is_copy',\n",
              " '_is_homogeneous_type',\n",
              " '_is_label_or_level_reference',\n",
              " '_is_label_reference',\n",
              " '_is_level_reference',\n",
              " '_is_mixed_type',\n",
              " '_is_view',\n",
              " '_iset_item',\n",
              " '_iset_item_mgr',\n",
              " '_iset_not_inplace',\n",
              " '_item_cache',\n",
              " '_iter_column_arrays',\n",
              " '_ixs',\n",
              " '_join_compat',\n",
              " '_logical_func',\n",
              " '_logical_method',\n",
              " '_maybe_cache_changed',\n",
              " '_maybe_update_cacher',\n",
              " '_metadata',\n",
              " '_mgr',\n",
              " '_min_count_stat_function',\n",
              " '_needs_reindex_multi',\n",
              " '_protect_consolidate',\n",
              " '_reduce',\n",
              " '_reindex_axes',\n",
              " '_reindex_columns',\n",
              " '_reindex_index',\n",
              " '_reindex_multi',\n",
              " '_reindex_with_indexers',\n",
              " '_replace_columnwise',\n",
              " '_repr_data_resource_',\n",
              " '_repr_fits_horizontal_',\n",
              " '_repr_fits_vertical_',\n",
              " '_repr_html_',\n",
              " '_repr_latex_',\n",
              " '_reset_cache',\n",
              " '_reset_cacher',\n",
              " '_sanitize_column',\n",
              " '_series',\n",
              " '_set_axis',\n",
              " '_set_axis_name',\n",
              " '_set_axis_nocheck',\n",
              " '_set_is_copy',\n",
              " '_set_item',\n",
              " '_set_item_frame_value',\n",
              " '_set_item_mgr',\n",
              " '_set_value',\n",
              " '_setitem_array',\n",
              " '_setitem_frame',\n",
              " '_setitem_slice',\n",
              " '_slice',\n",
              " '_stat_axis',\n",
              " '_stat_axis_name',\n",
              " '_stat_axis_number',\n",
              " '_stat_function',\n",
              " '_stat_function_ddof',\n",
              " '_take_with_is_copy',\n",
              " '_to_dict_of_blocks',\n",
              " '_typ',\n",
              " '_update_inplace',\n",
              " '_validate_dtype',\n",
              " '_values',\n",
              " '_where',\n",
              " 'abs',\n",
              " 'add',\n",
              " 'add_prefix',\n",
              " 'add_suffix',\n",
              " 'agg',\n",
              " 'aggregate',\n",
              " 'align',\n",
              " 'all',\n",
              " 'any',\n",
              " 'append',\n",
              " 'apply',\n",
              " 'applymap',\n",
              " 'asfreq',\n",
              " 'asof',\n",
              " 'assign',\n",
              " 'astype',\n",
              " 'at',\n",
              " 'at_time',\n",
              " 'attrs',\n",
              " 'axes',\n",
              " 'backfill',\n",
              " 'between_time',\n",
              " 'bfill',\n",
              " 'bool',\n",
              " 'boxplot',\n",
              " 'clip',\n",
              " 'columns',\n",
              " 'combine',\n",
              " 'combine_first',\n",
              " 'compare',\n",
              " 'convert_dtypes',\n",
              " 'copy',\n",
              " 'corr',\n",
              " 'corrwith',\n",
              " 'count',\n",
              " 'cov',\n",
              " 'cummax',\n",
              " 'cummin',\n",
              " 'cumprod',\n",
              " 'cumsum',\n",
              " 'describe',\n",
              " 'diff',\n",
              " 'div',\n",
              " 'divide',\n",
              " 'dot',\n",
              " 'drop',\n",
              " 'drop_duplicates',\n",
              " 'droplevel',\n",
              " 'dropna',\n",
              " 'dtypes',\n",
              " 'duplicated',\n",
              " 'empty',\n",
              " 'eq',\n",
              " 'equals',\n",
              " 'eval',\n",
              " 'ewm',\n",
              " 'exercise_wk',\n",
              " 'expanding',\n",
              " 'explode',\n",
              " 'ffill',\n",
              " 'fillna',\n",
              " 'filter',\n",
              " 'first',\n",
              " 'first_valid_index',\n",
              " 'flags',\n",
              " 'floordiv',\n",
              " 'from_dict',\n",
              " 'from_records',\n",
              " 'ge',\n",
              " 'get',\n",
              " 'groupby',\n",
              " 'gt',\n",
              " 'head',\n",
              " 'hist',\n",
              " 'iat',\n",
              " 'idxmax',\n",
              " 'idxmin',\n",
              " 'iloc',\n",
              " 'index',\n",
              " 'infer_objects',\n",
              " 'info',\n",
              " 'insert',\n",
              " 'interpolate',\n",
              " 'isin',\n",
              " 'isna',\n",
              " 'isnull',\n",
              " 'items',\n",
              " 'iteritems',\n",
              " 'iterrows',\n",
              " 'itertuples',\n",
              " 'join',\n",
              " 'keys',\n",
              " 'kurt',\n",
              " 'kurtosis',\n",
              " 'last',\n",
              " 'last_valid_index',\n",
              " 'le',\n",
              " 'loc',\n",
              " 'lookup',\n",
              " 'lt',\n",
              " 'mad',\n",
              " 'mask',\n",
              " 'max',\n",
              " 'mean',\n",
              " 'median',\n",
              " 'melt',\n",
              " 'memory_usage',\n",
              " 'merge',\n",
              " 'min',\n",
              " 'mod',\n",
              " 'mode',\n",
              " 'mul',\n",
              " 'multiply',\n",
              " 'ndim',\n",
              " 'ne',\n",
              " 'nlargest',\n",
              " 'notna',\n",
              " 'notnull',\n",
              " 'nsmallest',\n",
              " 'nunique',\n",
              " 'pad',\n",
              " 'pct_change',\n",
              " 'pipe',\n",
              " 'pivot',\n",
              " 'pivot_table',\n",
              " 'plot',\n",
              " 'pop',\n",
              " 'pow',\n",
              " 'prod',\n",
              " 'product',\n",
              " 'quantile',\n",
              " 'query',\n",
              " 'radd',\n",
              " 'rank',\n",
              " 'rdiv',\n",
              " 'reindex',\n",
              " 'reindex_like',\n",
              " 'rename',\n",
              " 'rename_axis',\n",
              " 'reorder_levels',\n",
              " 'replace',\n",
              " 'resample',\n",
              " 'reset_index',\n",
              " 'rfloordiv',\n",
              " 'rmod',\n",
              " 'rmul',\n",
              " 'rolling',\n",
              " 'round',\n",
              " 'rpow',\n",
              " 'rsub',\n",
              " 'rtruediv',\n",
              " 'sample',\n",
              " 'select_dtypes',\n",
              " 'sem',\n",
              " 'set_axis',\n",
              " 'set_flags',\n",
              " 'set_index',\n",
              " 'shape',\n",
              " 'shift',\n",
              " 'size',\n",
              " 'skew',\n",
              " 'slice_shift',\n",
              " 'sort_index',\n",
              " 'sort_values',\n",
              " 'squeeze',\n",
              " 'stack',\n",
              " 'std',\n",
              " 'style',\n",
              " 'sub',\n",
              " 'subtract',\n",
              " 'sum',\n",
              " 'swapaxes',\n",
              " 'swaplevel',\n",
              " 'tail',\n",
              " 'take',\n",
              " 'to_clipboard',\n",
              " 'to_csv',\n",
              " 'to_dict',\n",
              " 'to_excel',\n",
              " 'to_feather',\n",
              " 'to_gbq',\n",
              " 'to_hdf',\n",
              " 'to_html',\n",
              " 'to_json',\n",
              " 'to_latex',\n",
              " 'to_markdown',\n",
              " 'to_numpy',\n",
              " 'to_parquet',\n",
              " 'to_period',\n",
              " 'to_pickle',\n",
              " 'to_records',\n",
              " 'to_sql',\n",
              " 'to_stata',\n",
              " 'to_string',\n",
              " 'to_timestamp',\n",
              " 'to_xarray',\n",
              " 'to_xml',\n",
              " 'transform',\n",
              " 'transpose',\n",
              " 'truediv',\n",
              " 'truncate',\n",
              " 'tz_convert',\n",
              " 'tz_localize',\n",
              " 'unstack',\n",
              " 'update',\n",
              " 'value_counts',\n",
              " 'values',\n",
              " 'var',\n",
              " 'where',\n",
              " 'xs']"
            ]
          },
          "metadata": {},
          "execution_count": 14
        }
      ],
      "source": [
        "dir(dfx)"
      ]
    },
    {
      "cell_type": "code",
      "execution_count": null,
      "metadata": {
        "colab": {
          "base_uri": "https://localhost:8080/"
        },
        "id": "6N814I8pLoKJ",
        "outputId": "3b167469-0f33-4267-8cd5-d2eee3254030"
      },
      "outputs": [
        {
          "output_type": "stream",
          "name": "stdout",
          "text": [
            "                Diagnosed  Living_situation  Housing_Utilities  \\\n",
            "Insurance_Type                                                   \n",
            "1                       1                 2                  4   \n",
            "0                       0                 0                  3   \n",
            "\n",
            "                Housing_Rent_Mortgage  Empl_status  Empl_#hrs  \\\n",
            "Insurance_Type                                                  \n",
            "1                                   4            2          1   \n",
            "0                                   1            6          1   \n",
            "\n",
            "                Empl_job_security  Edu_level  Health_drugs  exercise_wk  ...  \\\n",
            "Insurance_Type                                                           ...   \n",
            "1                               4          5             1            3  ...   \n",
            "0                               4          4             1            2  ...   \n",
            "\n",
            "                Location  Ethnicity  Marital_status  Income  Housing_security  \\\n",
            "Insurance_Type                                                                  \n",
            "1                      3          5               5       6              3.25   \n",
            "0                      1          5               2       1              1.75   \n",
            "\n",
            "                Health_literacy  Transportation  Community_saftey  \\\n",
            "Insurance_Type                                                      \n",
            "1                           1.0             2.5               2.0   \n",
            "0                           2.0             2.5               1.2   \n",
            "\n",
            "                Food_security  Social_engagement  \n",
            "Insurance_Type                                    \n",
            "1                        2.25               2.75  \n",
            "0                        1.75               3.00  \n",
            "\n",
            "[2 rows x 22 columns]\n"
          ]
        }
      ],
      "source": [
        "d1 = dfx.drop_duplicates('Insurance_Type').set_index('Insurance_Type')\n",
        "print(d1)"
      ]
    },
    {
      "cell_type": "code",
      "execution_count": null,
      "metadata": {
        "colab": {
          "base_uri": "https://localhost:8080/"
        },
        "id": "Siln8oyM8Fhi",
        "outputId": "9b0f2019-ed40-4946-f646-3291047980a8"
      },
      "outputs": [
        {
          "output_type": "execute_result",
          "data": {
            "text/plain": [
              "array([1, 0, 2, 3, 4])"
            ]
          },
          "metadata": {},
          "execution_count": 16
        }
      ],
      "source": [
        "dfx['Age'].unique()"
      ]
    },
    {
      "cell_type": "markdown",
      "metadata": {
        "id": "4pieEK9KUhfj"
      },
      "source": [
        "## EDA"
      ]
    },
    {
      "cell_type": "code",
      "execution_count": null,
      "metadata": {
        "colab": {
          "base_uri": "https://localhost:8080/",
          "height": 449
        },
        "id": "SXTaMOW6UrDe",
        "outputId": "c137f4ae-71a6-49f8-c0a4-1fcc82b856ac"
      },
      "outputs": [
        {
          "output_type": "stream",
          "name": "stderr",
          "text": [
            "/usr/local/lib/python3.7/dist-packages/ipykernel_launcher.py:3: DeprecationWarning: `np.bool` is a deprecated alias for the builtin `bool`. To silence this warning, use `bool` by itself. Doing this will not modify any behavior and is safe. If you specifically wanted the numpy scalar type, use `np.bool_` here.\n",
            "Deprecated in NumPy 1.20; for more details and guidance: https://numpy.org/devdocs/release/1.20.0-notes.html#deprecations\n",
            "  This is separate from the ipykernel package so we can avoid doing imports until\n"
          ]
        },
        {
          "output_type": "display_data",
          "data": {
            "text/plain": [
              "<Figure size 432x288 with 2 Axes>"
            ],
            "image/png": "[encoded data removed]"
          },
          "metadata": {
            "needs_background": "light"
          }
        }
      ],
      "source": [
        "# correlation heatmap for all features\n",
        "corr = dfx.corr()\n",
        "mask = np.zeros_like(corr, dtype=np.bool)\n",
        "mask[np.triu_indices_from(mask)] = True\n",
        "sns.heatmap(corr, mask = mask, annot=True)\n",
        "plt.show()"
      ]
    },
    {
      "cell_type": "code",
      "execution_count": null,
      "metadata": {
        "colab": {
          "base_uri": "https://localhost:8080/",
          "height": 163
        },
        "id": "hrDpEdabUhIE",
        "outputId": "2babc999-c82d-4ac7-8ad2-ae0ae17e9e53"
      },
      "outputs": [
        {
          "output_type": "execute_result",
          "data": {
            "text/plain": [
              "<pandas.io.formats.style.Styler at 0x7f506db06f50>"
            ],
            "text/html": [
              "<style type=\"text/css\">\n",
              "#T_8ef70_row0_col0, #T_8ef70_row0_col1, #T_8ef70_row0_col2, #T_8ef70_row0_col4, #T_8ef70_row0_col5, #T_8ef70_row0_col8, #T_8ef70_row0_col9, #T_8ef70_row0_col10, #T_8ef70_row0_col11, #T_8ef70_row0_col12, #T_8ef70_row0_col14, #T_8ef70_row0_col15, #T_8ef70_row0_col17, #T_8ef70_row0_col18, #T_8ef70_row0_col19, #T_8ef70_row0_col20, #T_8ef70_row0_col21, #T_8ef70_row0_col22, #T_8ef70_row1_col3, #T_8ef70_row1_col6, #T_8ef70_row1_col7, #T_8ef70_row1_col13, #T_8ef70_row1_col16 {\n",
              "  background-color: #fff5f0;\n",
              "  color: #000000;\n",
              "}\n",
              "#T_8ef70_row0_col3, #T_8ef70_row0_col6, #T_8ef70_row0_col7, #T_8ef70_row0_col13, #T_8ef70_row0_col16, #T_8ef70_row1_col0, #T_8ef70_row1_col1, #T_8ef70_row1_col2, #T_8ef70_row1_col4, #T_8ef70_row1_col5, #T_8ef70_row1_col8, #T_8ef70_row1_col9, #T_8ef70_row1_col10, #T_8ef70_row1_col11, #T_8ef70_row1_col12, #T_8ef70_row1_col14, #T_8ef70_row1_col15, #T_8ef70_row1_col17, #T_8ef70_row1_col18, #T_8ef70_row1_col19, #T_8ef70_row1_col20, #T_8ef70_row1_col21, #T_8ef70_row1_col22 {\n",
              "  background-color: #67000d;\n",
              "  color: #f1f1f1;\n",
              "}\n",
              "</style>\n",
              "<table id=\"T_8ef70_\" class=\"dataframe\">\n",
              "  <thead>\n",
              "    <tr>\n",
              "      <th class=\"blank level0\" >&nbsp;</th>\n",
              "      <th class=\"col_heading level0 col0\" >Insurance_Type</th>\n",
              "      <th class=\"col_heading level0 col1\" >Diagnosed</th>\n",
              "      <th class=\"col_heading level0 col2\" >Living_situation</th>\n",
              "      <th class=\"col_heading level0 col3\" >Housing_Utilities</th>\n",
              "      <th class=\"col_heading level0 col4\" >Housing_Rent_Mortgage</th>\n",
              "      <th class=\"col_heading level0 col5\" >Empl_status</th>\n",
              "      <th class=\"col_heading level0 col6\" >Empl_#hrs</th>\n",
              "      <th class=\"col_heading level0 col7\" >Empl_job_security</th>\n",
              "      <th class=\"col_heading level0 col8\" >Edu_level</th>\n",
              "      <th class=\"col_heading level0 col9\" >Health_drugs</th>\n",
              "      <th class=\"col_heading level0 col10\" >exercise_wk</th>\n",
              "      <th class=\"col_heading level0 col11\" >Gender</th>\n",
              "      <th class=\"col_heading level0 col12\" >Age</th>\n",
              "      <th class=\"col_heading level0 col13\" >Location</th>\n",
              "      <th class=\"col_heading level0 col14\" >Ethnicity</th>\n",
              "      <th class=\"col_heading level0 col15\" >Marital_status</th>\n",
              "      <th class=\"col_heading level0 col16\" >Income</th>\n",
              "      <th class=\"col_heading level0 col17\" >Housing_security</th>\n",
              "      <th class=\"col_heading level0 col18\" >Health_literacy</th>\n",
              "      <th class=\"col_heading level0 col19\" >Transportation</th>\n",
              "      <th class=\"col_heading level0 col20\" >Community_saftey</th>\n",
              "      <th class=\"col_heading level0 col21\" >Food_security</th>\n",
              "      <th class=\"col_heading level0 col22\" >Social_engagement</th>\n",
              "    </tr>\n",
              "    <tr>\n",
              "      <th class=\"index_name level0\" >Diagnosed</th>\n",
              "      <th class=\"blank col0\" >&nbsp;</th>\n",
              "      <th class=\"blank col1\" >&nbsp;</th>\n",
              "      <th class=\"blank col2\" >&nbsp;</th>\n",
              "      <th class=\"blank col3\" >&nbsp;</th>\n",
              "      <th class=\"blank col4\" >&nbsp;</th>\n",
              "      <th class=\"blank col5\" >&nbsp;</th>\n",
              "      <th class=\"blank col6\" >&nbsp;</th>\n",
              "      <th class=\"blank col7\" >&nbsp;</th>\n",
              "      <th class=\"blank col8\" >&nbsp;</th>\n",
              "      <th class=\"blank col9\" >&nbsp;</th>\n",
              "      <th class=\"blank col10\" >&nbsp;</th>\n",
              "      <th class=\"blank col11\" >&nbsp;</th>\n",
              "      <th class=\"blank col12\" >&nbsp;</th>\n",
              "      <th class=\"blank col13\" >&nbsp;</th>\n",
              "      <th class=\"blank col14\" >&nbsp;</th>\n",
              "      <th class=\"blank col15\" >&nbsp;</th>\n",
              "      <th class=\"blank col16\" >&nbsp;</th>\n",
              "      <th class=\"blank col17\" >&nbsp;</th>\n",
              "      <th class=\"blank col18\" >&nbsp;</th>\n",
              "      <th class=\"blank col19\" >&nbsp;</th>\n",
              "      <th class=\"blank col20\" >&nbsp;</th>\n",
              "      <th class=\"blank col21\" >&nbsp;</th>\n",
              "      <th class=\"blank col22\" >&nbsp;</th>\n",
              "    </tr>\n",
              "  </thead>\n",
              "  <tbody>\n",
              "    <tr>\n",
              "      <th id=\"T_8ef70_level0_row0\" class=\"row_heading level0 row0\" >0</th>\n",
              "      <td id=\"T_8ef70_row0_col0\" class=\"data row0 col0\" >0.246835</td>\n",
              "      <td id=\"T_8ef70_row0_col1\" class=\"data row0 col1\" >0.000000</td>\n",
              "      <td id=\"T_8ef70_row0_col2\" class=\"data row0 col2\" >0.886076</td>\n",
              "      <td id=\"T_8ef70_row0_col3\" class=\"data row0 col3\" >1.987342</td>\n",
              "      <td id=\"T_8ef70_row0_col4\" class=\"data row0 col4\" >1.765823</td>\n",
              "      <td id=\"T_8ef70_row0_col5\" class=\"data row0 col5\" >2.993671</td>\n",
              "      <td id=\"T_8ef70_row0_col6\" class=\"data row0 col6\" >1.139241</td>\n",
              "      <td id=\"T_8ef70_row0_col7\" class=\"data row0 col7\" >3.556962</td>\n",
              "      <td id=\"T_8ef70_row0_col8\" class=\"data row0 col8\" >3.158228</td>\n",
              "      <td id=\"T_8ef70_row0_col9\" class=\"data row0 col9\" >1.000000</td>\n",
              "      <td id=\"T_8ef70_row0_col10\" class=\"data row0 col10\" >2.000000</td>\n",
              "      <td id=\"T_8ef70_row0_col11\" class=\"data row0 col11\" >0.259494</td>\n",
              "      <td id=\"T_8ef70_row0_col12\" class=\"data row0 col12\" >1.670886</td>\n",
              "      <td id=\"T_8ef70_row0_col13\" class=\"data row0 col13\" >1.550633</td>\n",
              "      <td id=\"T_8ef70_row0_col14\" class=\"data row0 col14\" >4.487342</td>\n",
              "      <td id=\"T_8ef70_row0_col15\" class=\"data row0 col15\" >2.784810</td>\n",
              "      <td id=\"T_8ef70_row0_col16\" class=\"data row0 col16\" >4.158228</td>\n",
              "      <td id=\"T_8ef70_row0_col17\" class=\"data row0 col17\" >2.523734</td>\n",
              "      <td id=\"T_8ef70_row0_col18\" class=\"data row0 col18\" >2.063291</td>\n",
              "      <td id=\"T_8ef70_row0_col19\" class=\"data row0 col19\" >2.085443</td>\n",
              "      <td id=\"T_8ef70_row0_col20\" class=\"data row0 col20\" >1.996203</td>\n",
              "      <td id=\"T_8ef70_row0_col21\" class=\"data row0 col21\" >2.389241</td>\n",
              "      <td id=\"T_8ef70_row0_col22\" class=\"data row0 col22\" >2.545886</td>\n",
              "    </tr>\n",
              "    <tr>\n",
              "      <th id=\"T_8ef70_level0_row1\" class=\"row_heading level0 row1\" >1</th>\n",
              "      <td id=\"T_8ef70_row1_col0\" class=\"data row1 col0\" >0.462745</td>\n",
              "      <td id=\"T_8ef70_row1_col1\" class=\"data row1 col1\" >1.000000</td>\n",
              "      <td id=\"T_8ef70_row1_col2\" class=\"data row1 col2\" >1.043137</td>\n",
              "      <td id=\"T_8ef70_row1_col3\" class=\"data row1 col3\" >1.784314</td>\n",
              "      <td id=\"T_8ef70_row1_col4\" class=\"data row1 col4\" >1.862745</td>\n",
              "      <td id=\"T_8ef70_row1_col5\" class=\"data row1 col5\" >3.070588</td>\n",
              "      <td id=\"T_8ef70_row1_col6\" class=\"data row1 col6\" >1.098039</td>\n",
              "      <td id=\"T_8ef70_row1_col7\" class=\"data row1 col7\" >3.388235</td>\n",
              "      <td id=\"T_8ef70_row1_col8\" class=\"data row1 col8\" >3.349020</td>\n",
              "      <td id=\"T_8ef70_row1_col9\" class=\"data row1 col9\" >1.478431</td>\n",
              "      <td id=\"T_8ef70_row1_col10\" class=\"data row1 col10\" >2.419608</td>\n",
              "      <td id=\"T_8ef70_row1_col11\" class=\"data row1 col11\" >0.282353</td>\n",
              "      <td id=\"T_8ef70_row1_col12\" class=\"data row1 col12\" >1.984314</td>\n",
              "      <td id=\"T_8ef70_row1_col13\" class=\"data row1 col13\" >1.368627</td>\n",
              "      <td id=\"T_8ef70_row1_col14\" class=\"data row1 col14\" >4.631373</td>\n",
              "      <td id=\"T_8ef70_row1_col15\" class=\"data row1 col15\" >3.301961</td>\n",
              "      <td id=\"T_8ef70_row1_col16\" class=\"data row1 col16\" >3.541176</td>\n",
              "      <td id=\"T_8ef70_row1_col17\" class=\"data row1 col17\" >2.759804</td>\n",
              "      <td id=\"T_8ef70_row1_col18\" class=\"data row1 col18\" >2.258824</td>\n",
              "      <td id=\"T_8ef70_row1_col19\" class=\"data row1 col19\" >2.294118</td>\n",
              "      <td id=\"T_8ef70_row1_col20\" class=\"data row1 col20\" >2.244706</td>\n",
              "      <td id=\"T_8ef70_row1_col21\" class=\"data row1 col21\" >2.706863</td>\n",
              "      <td id=\"T_8ef70_row1_col22\" class=\"data row1 col22\" >2.883333</td>\n",
              "    </tr>\n",
              "  </tbody>\n",
              "</table>\n"
            ]
          },
          "metadata": {},
          "execution_count": 18
        }
      ],
      "source": [
        "targetdf = dfx.groupby('Diagnosed').apply(np.mean).head()\n",
        "targetdf.style.background_gradient(cmap='Reds')"
      ]
    },
    {
      "cell_type": "markdown",
      "metadata": {
        "id": "TiwpWuGM1Ly5"
      },
      "source": [
        "**Data seems to be equally distributed and balanced corresponding to target variable**"
      ]
    },
    {
      "cell_type": "code",
      "execution_count": null,
      "metadata": {
        "id": "oG7rRmhVp6AY"
      },
      "outputs": [],
      "source": [
        "#Array to store results of different models\n",
        "Model= []\n",
        "Results = []"
      ]
    },
    {
      "cell_type": "markdown",
      "metadata": {
        "id": "dxoySVTCKFmM"
      },
      "source": [
        "## Modelling"
      ]
    },
    {
      "cell_type": "code",
      "execution_count": null,
      "metadata": {
        "colab": {
          "base_uri": "https://localhost:8080/"
        },
        "id": "faZEST8XKE6W",
        "outputId": "3247c5fa-f7db-474f-f19a-bc49174e6ee2"
      },
      "outputs": [
        {
          "output_type": "stream",
          "name": "stdout",
          "text": [
            "Data for Modeling: (330, 23)\n",
            "Unseen Data For Predictions: (83, 23)\n"
          ]
        }
      ],
      "source": [
        "dataset = dfx.copy()\n",
        "data = dataset.sample(frac=0.80, random_state=786)\n",
        "data_unseen = dataset.drop(data.index).reset_index(drop=True)\n",
        "print('Data for Modeling: ' + str(data.shape))\n",
        "print('Unseen Data For Predictions: ' + str(data_unseen.shape))"
      ]
    },
    {
      "cell_type": "code",
      "execution_count": null,
      "metadata": {
        "id": "3C2mxhWXWvLq"
      },
      "outputs": [],
      "source": [
        "from sklearn.model_selection import train_test_split \n",
        "\n",
        "X_train, X_test, y_train, y_test = train_test_split(dfx.drop(columns=['Diagnosed'],axis=1),\n",
        "                                                    dfx['Diagnosed'],test_size=0.2, random_state=42)"
      ]
    },
    {
      "cell_type": "code",
      "execution_count": null,
      "metadata": {
        "id": "rXejYKI9qlUj"
      },
      "outputs": [],
      "source": [
        "from sklearn.metrics import confusion_matrix, accuracy_score"
      ]
    },
    {
      "cell_type": "markdown",
      "metadata": {
        "id": "QFxla0a1YkT6"
      },
      "source": [
        "### Logistic Regression"
      ]
    },
    {
      "cell_type": "code",
      "execution_count": null,
      "metadata": {
        "id": "YYchQEV4X4I1",
        "colab": {
          "base_uri": "https://localhost:8080/"
        },
        "outputId": "1731f99d-e12e-43f3-c7b9-b02b6ca8d8c5"
      },
      "outputs": [
        {
          "output_type": "stream",
          "name": "stdout",
          "text": [
            "              precision    recall  f1-score   support\n",
            "\n",
            "           0       0.52      0.43      0.47        28\n",
            "           1       0.73      0.80      0.77        55\n",
            "\n",
            "    accuracy                           0.67        83\n",
            "   macro avg       0.63      0.61      0.62        83\n",
            "weighted avg       0.66      0.67      0.67        83\n",
            "\n"
          ]
        }
      ],
      "source": [
        "from sklearn.linear_model import LogisticRegression\n",
        "from sklearn.metrics import classification_report\n",
        "lr1 = LogisticRegression()\n",
        "lr1.fit(X_train, y_train)\n",
        "predictions = lr1.predict(X_test)\n",
        "  \n",
        "# print classification report\n",
        "print(classification_report(y_test, predictions))"
      ]
    },
    {
      "cell_type": "code",
      "execution_count": null,
      "metadata": {
        "id": "mEcf1jD9qipC",
        "colab": {
          "base_uri": "https://localhost:8080/"
        },
        "outputId": "d970616b-12a5-4c15-eb83-f3c79377fff2"
      },
      "outputs": [
        {
          "output_type": "execute_result",
          "data": {
            "text/plain": [
              "0.6746987951807228"
            ]
          },
          "metadata": {},
          "execution_count": 24
        }
      ],
      "source": [
        "accuracy_score(y_test, predictions)"
      ]
    },
    {
      "cell_type": "code",
      "execution_count": null,
      "metadata": {
        "id": "guohQetQqeM8"
      },
      "outputs": [],
      "source": [
        "Results.append(accuracy_score(y_test, predictions))"
      ]
    },
    {
      "cell_type": "code",
      "execution_count": null,
      "metadata": {
        "id": "tCf7yfkGqpeS"
      },
      "outputs": [],
      "source": [
        "Model.append('LR')"
      ]
    },
    {
      "cell_type": "markdown",
      "metadata": {
        "id": "zKhxWN5fZFjs"
      },
      "source": [
        "### Decision Tree"
      ]
    },
    {
      "cell_type": "code",
      "execution_count": null,
      "metadata": {
        "id": "60RMl2zHYzNY",
        "colab": {
          "base_uri": "https://localhost:8080/"
        },
        "outputId": "6721aa5a-7bb0-4c2c-8e07-840fbcf86da3"
      },
      "outputs": [
        {
          "output_type": "execute_result",
          "data": {
            "text/plain": [
              "DecisionTreeClassifier(criterion='entropy', random_state=0)"
            ]
          },
          "metadata": {},
          "execution_count": 27
        }
      ],
      "source": [
        "from sklearn.tree import DecisionTreeClassifier\n",
        "classifier = DecisionTreeClassifier(criterion = 'entropy', random_state = 0)\n",
        "classifier.fit(X_train, y_train)"
      ]
    },
    {
      "cell_type": "code",
      "execution_count": null,
      "metadata": {
        "id": "aieIpH0IY4za"
      },
      "outputs": [],
      "source": [
        "predictions = classifier.predict(X_test)"
      ]
    },
    {
      "cell_type": "code",
      "execution_count": null,
      "metadata": {
        "id": "julosZCdY7DT",
        "colab": {
          "base_uri": "https://localhost:8080/"
        },
        "outputId": "e359e0ca-ade8-4a96-f69f-4ad8c8688d03"
      },
      "outputs": [
        {
          "output_type": "stream",
          "name": "stdout",
          "text": [
            "              precision    recall  f1-score   support\n",
            "\n",
            "           0       0.82      0.82      0.82        28\n",
            "           1       0.91      0.91      0.91        55\n",
            "\n",
            "    accuracy                           0.88        83\n",
            "   macro avg       0.87      0.87      0.87        83\n",
            "weighted avg       0.88      0.88      0.88        83\n",
            "\n"
          ]
        }
      ],
      "source": [
        "# print classification report\n",
        "print(classification_report(y_test, predictions))"
      ]
    },
    {
      "cell_type": "code",
      "execution_count": null,
      "metadata": {
        "id": "swPcsNLZq0Sf"
      },
      "outputs": [],
      "source": [
        "Results.append(accuracy_score(y_test, predictions))\n",
        "Model.append('DecTree')"
      ]
    },
    {
      "cell_type": "markdown",
      "metadata": {
        "id": "gYYvyuavZYXZ"
      },
      "source": [
        "### Gradient Boosting"
      ]
    },
    {
      "cell_type": "code",
      "execution_count": null,
      "metadata": {
        "colab": {
          "base_uri": "https://localhost:8080/"
        },
        "id": "X3IQZBqqZIRR",
        "outputId": "f4c7b337-78a7-4b2b-b9b6-5239d0ec5466"
      },
      "outputs": [
        {
          "output_type": "execute_result",
          "data": {
            "text/plain": [
              "GradientBoostingClassifier(random_state=42)"
            ]
          },
          "metadata": {},
          "execution_count": 31
        }
      ],
      "source": [
        "from sklearn.ensemble import GradientBoostingClassifier\n",
        "gbclf = GradientBoostingClassifier(random_state=42)\n",
        "gbclf.fit(X_train,y_train)"
      ]
    },
    {
      "cell_type": "code",
      "execution_count": null,
      "metadata": {
        "id": "klUQLtTAZbxi"
      },
      "outputs": [],
      "source": [
        "param_grid = {\n",
        "    'learning_rate': [0.1,0.2],\n",
        "    'max_depth': [6],\n",
        "    'subsample': [0.5,0.7,1],\n",
        "    'n_estimators': [100]\n",
        "}"
      ]
    },
    {
      "cell_type": "code",
      "execution_count": null,
      "metadata": {
        "id": "QcRwBuXAZeoQ"
      },
      "outputs": [],
      "source": [
        "from sklearn.metrics import accuracy_score, classification_report"
      ]
    },
    {
      "cell_type": "code",
      "execution_count": null,
      "metadata": {
        "colab": {
          "base_uri": "https://localhost:8080/"
        },
        "id": "ntWboRQZZhDW",
        "outputId": "6a5d8e47-a36d-4095-e8d6-27f66d709f9c"
      },
      "outputs": [
        {
          "output_type": "stream",
          "name": "stdout",
          "text": [
            "Grid search found the following optimal parameters: \n",
            "learning_rate: 0.1\n",
            "max_depth: 6\n",
            "n_estimators: 100\n",
            "subsample: 1\n",
            "\n",
            "Training Accuracy: 100.0%\n",
            "Validation Accuracy: 91.57%\n"
          ]
        }
      ],
      "source": [
        "from sklearn.model_selection import GridSearchCV\n",
        "\n",
        "grid_clf = GridSearchCV(gbclf,param_grid,scoring='roc_auc',cv=None,n_jobs=1)\n",
        "grid_clf.fit(X_train,y_train)\n",
        "\n",
        "best_parameters = grid_clf.best_params_\n",
        "\n",
        "print('Grid search found the following optimal parameters: ')\n",
        "for param_name in sorted(best_parameters.keys()):\n",
        "    print('%s: %r' % (param_name,best_parameters[param_name]))\n",
        "    \n",
        "training_preds = grid_clf.predict(X_train)\n",
        "test_preds = grid_clf.predict(X_test)\n",
        "training_accuracy = accuracy_score(y_train,training_preds)\n",
        "test_accuracy = accuracy_score(y_test,test_preds)\n",
        "\n",
        "print('')\n",
        "print('Training Accuracy: {:.4}%'.format(training_accuracy*100))\n",
        "print('Validation Accuracy: {:.4}%'.format(test_accuracy*100))"
      ]
    },
    {
      "cell_type": "code",
      "execution_count": null,
      "metadata": {
        "colab": {
          "base_uri": "https://localhost:8080/"
        },
        "id": "g7rjmQvJaIg9",
        "outputId": "3c669145-29d9-409c-b0d6-49ad9a3fd6ca"
      },
      "outputs": [
        {
          "output_type": "stream",
          "name": "stdout",
          "text": [
            "              precision    recall  f1-score   support\n",
            "\n",
            "           0       0.89      0.86      0.87        28\n",
            "           1       0.93      0.95      0.94        55\n",
            "\n",
            "    accuracy                           0.92        83\n",
            "   macro avg       0.91      0.90      0.90        83\n",
            "weighted avg       0.92      0.92      0.92        83\n",
            " \n",
            "\n",
            "\n"
          ]
        }
      ],
      "source": [
        "print(classification_report(y_test, test_preds), '\\n\\n')"
      ]
    },
    {
      "cell_type": "code",
      "execution_count": null,
      "metadata": {
        "id": "5B_09NiVq8xI"
      },
      "outputs": [],
      "source": [
        "Results.append(accuracy_score(y_test, test_preds))\n",
        "Model.append('GBC')"
      ]
    },
    {
      "cell_type": "code",
      "source": [
        "from sklearn.metrics import confusion_matrix\n",
        "\n",
        "#Generate the confusion matrix\n",
        "cf_matrix = confusion_matrix(y_test, test_preds)\n",
        "\n",
        "print(cf_matrix)"
      ],
      "metadata": {
        "colab": {
          "base_uri": "https://localhost:8080/"
        },
        "id": "IZ9jaErB82G5",
        "outputId": "ebed6edb-0d79-4e6b-8836-a5567005e623"
      },
      "execution_count": null,
      "outputs": [
        {
          "output_type": "stream",
          "name": "stdout",
          "text": [
            "[[24  4]\n",
            " [ 3 52]]\n"
          ]
        }
      ]
    },
    {
      "cell_type": "markdown",
      "metadata": {
        "id": "2EISmuLKxWJN"
      },
      "source": [
        "### Random forest"
      ]
    },
    {
      "cell_type": "code",
      "execution_count": null,
      "metadata": {
        "id": "mURVIk2UxT4k",
        "colab": {
          "base_uri": "https://localhost:8080/"
        },
        "outputId": "ba48710b-fc81-496b-cf71-485ed2069d84"
      },
      "outputs": [
        {
          "output_type": "execute_result",
          "data": {
            "text/plain": [
              "RandomForestClassifier(criterion='entropy', n_estimators=10, random_state=0)"
            ]
          },
          "metadata": {},
          "execution_count": 38
        }
      ],
      "source": [
        "from sklearn.ensemble import RandomForestClassifier\n",
        "modelRf = RandomForestClassifier(n_estimators = 10, criterion = 'entropy', random_state = 0)\n",
        "modelRf.fit(X_train, y_train)"
      ]
    },
    {
      "cell_type": "code",
      "execution_count": null,
      "metadata": {
        "id": "fSYpCBsYxbK7"
      },
      "outputs": [],
      "source": [
        "y_pred = modelRf.predict(X_test)"
      ]
    },
    {
      "cell_type": "code",
      "execution_count": null,
      "metadata": {
        "id": "e7Jl-zwVxdpU",
        "colab": {
          "base_uri": "https://localhost:8080/"
        },
        "outputId": "5dff0097-4a92-4838-84db-3a516b6f3b68"
      },
      "outputs": [
        {
          "output_type": "stream",
          "name": "stdout",
          "text": [
            "True: [1 0 1 1 1 0 1 1 1 0 0 0 1 1 1 0 1 0 1 1 1 1 0 1 1]\n",
            "False: [1 1 1 1 0 1 1 1 1 0 0 0 1 1 1 0 1 1 1 1 1 1 0 1 1]\n"
          ]
        }
      ],
      "source": [
        "print('True:', y_test.values[0:25])\n",
        "print('False:', y_pred[0:25])"
      ]
    },
    {
      "cell_type": "code",
      "execution_count": null,
      "metadata": {
        "id": "eJeaGQ8AxiWX",
        "colab": {
          "base_uri": "https://localhost:8080/"
        },
        "outputId": "34e44c03-0e2b-4a25-f055-39dd6ef7ead4"
      },
      "outputs": [
        {
          "output_type": "execute_result",
          "data": {
            "text/plain": [
              "Counter({0: 24, 1: 59})"
            ]
          },
          "metadata": {},
          "execution_count": 41
        }
      ],
      "source": [
        "import collections\n",
        "collections.Counter(y_pred)"
      ]
    },
    {
      "cell_type": "code",
      "execution_count": null,
      "metadata": {
        "id": "TpZvQtbxxpWO",
        "colab": {
          "base_uri": "https://localhost:8080/"
        },
        "outputId": "ee56b7b2-a7ba-4c0d-d862-47227cdb49d4"
      },
      "outputs": [
        {
          "output_type": "stream",
          "name": "stdout",
          "text": [
            "[[21  7]\n",
            " [ 3 52]]\n"
          ]
        },
        {
          "output_type": "execute_result",
          "data": {
            "text/plain": [
              "0.8795180722891566"
            ]
          },
          "metadata": {},
          "execution_count": 42
        }
      ],
      "source": [
        "from sklearn.metrics import confusion_matrix, accuracy_score\n",
        "cm = confusion_matrix(y_test, y_pred)\n",
        "print(cm)\n",
        "accuracy_score(y_test, y_pred)"
      ]
    },
    {
      "cell_type": "code",
      "execution_count": null,
      "metadata": {
        "id": "k83Qzeu-rBuu"
      },
      "outputs": [],
      "source": [
        "Results.append(accuracy_score(y_test, y_pred))\n",
        "Model.append('RF')"
      ]
    },
    {
      "cell_type": "code",
      "source": [
        "feature_scores = pd.Series(modelRf.feature_importances_, index=X_train.columns).sort_values(ascending=False)\n",
        "print(feature_scores)"
      ],
      "metadata": {
        "colab": {
          "base_uri": "https://localhost:8080/"
        },
        "id": "sAdYtbJ0xK8W",
        "outputId": "cc0bc2a8-3912-4ad9-f44e-553581a53611"
      },
      "execution_count": null,
      "outputs": [
        {
          "output_type": "stream",
          "name": "stdout",
          "text": [
            "exercise_wk              0.238445\n",
            "Health_drugs             0.089996\n",
            "Social_engagement        0.068936\n",
            "Age                      0.058217\n",
            "Transportation           0.052227\n",
            "Food_security            0.045908\n",
            "Community_saftey         0.044062\n",
            "Housing_security         0.041522\n",
            "Empl_status              0.039843\n",
            "Housing_Utilities        0.038143\n",
            "Health_literacy          0.037139\n",
            "Marital_status           0.036904\n",
            "Insurance_Type           0.033962\n",
            "Income                   0.033090\n",
            "Location                 0.027659\n",
            "Ethnicity                0.024940\n",
            "Edu_level                0.019901\n",
            "Living_situation         0.018941\n",
            "Housing_Rent_Mortgage    0.015504\n",
            "Gender                   0.013254\n",
            "Empl_job_security        0.012026\n",
            "Empl_#hrs                0.009382\n",
            "dtype: float64\n"
          ]
        }
      ]
    },
    {
      "cell_type": "markdown",
      "metadata": {
        "id": "l5XeUFNMrJHu"
      },
      "source": [
        "### Compare & visualize all the implemented models"
      ]
    },
    {
      "cell_type": "code",
      "execution_count": null,
      "metadata": {
        "id": "q2x1w7q0rIYG",
        "colab": {
          "base_uri": "https://localhost:8080/"
        },
        "outputId": "1f7b861d-d946-4816-d8c3-8817e06dd5a2"
      },
      "outputs": [
        {
          "output_type": "display_data",
          "data": {
            "text/plain": [
              "<Figure size 432x288 with 1 Axes>"
            ],
            "image/png": "[encoded data removed]"
          },
          "metadata": {
            "needs_background": "light"
          }
        }
      ],
      "source": [
        "# creating the bar plot\n",
        "plt.bar(Model, Results, color ='blue',\n",
        "        width = 0.4)\n",
        " \n",
        "plt.xlabel(\"Models\")\n",
        "plt.ylabel(\"Accuracy of models\")\n",
        "plt.title(\"Accuracy Comparison\")\n",
        "plt.show()"
      ]
    },
    {
      "cell_type": "markdown",
      "metadata": {
        "id": "wIXHcSBm0tqi"
      },
      "source": [
        "GBC is giving us best accuracy among all hence we will be going ahead with this model only for final results."
      ]
    },
    {
      "cell_type": "markdown",
      "metadata": {
        "id": "qosDbFfzr3q9"
      },
      "source": [
        "### Input by User"
      ]
    },
    {
      "cell_type": "code",
      "execution_count": 51,
      "metadata": {
        "id": "nqJPnuZ_r5ch"
      },
      "outputs": [],
      "source": [
        "import pickle \n",
        "pickle.dump(gbclf,open('modelGBC.pkl','wb'))"
      ]
    },
    {
      "cell_type": "code",
      "execution_count": 52,
      "metadata": {
        "id": "AseZQB4MsCe8"
      },
      "outputs": [],
      "source": [
        "def get_result_Rf(args_list):\n",
        "\n",
        "    model = pickle.load(open('modelGBC.pkl', 'rb'))       \n",
        "    cent = model.predict_proba(args_list)*100\n",
        "    prediction = model.predict(args_list)\n",
        "    value = round(cent[0][prediction[0]], 2)\n",
        "    print(prediction)\n",
        "    if prediction == 1:\n",
        "        #result = \"Chances of getting diagnosed with chronic condition is {0}% \".format(value)\n",
        "        result = \"Chances of getting diagnosed with chronic condition is very high \"\n",
        "    else:\n",
        "        #result=\"Chances of not getting diagnosed with chronic condition is {0}%\".format(value)\n",
        "        result = \"Chances of getting diagnosed with chronic condition is very Low \"\n",
        "    return result"
      ]
    },
    {
      "cell_type": "code",
      "execution_count": 53,
      "metadata": {
        "id": "iQPXvxzrsIYm",
        "colab": {
          "base_uri": "https://localhost:8080/"
        },
        "outputId": "08f82f03-9999-4f83-b58c-168cfea0fb4f"
      },
      "outputs": [
        {
          "output_type": "stream",
          "name": "stdout",
          "text": [
            "[1]\n",
            "Chances of getting diagnosed with chronic condition is very high \n"
          ]
        },
        {
          "output_type": "stream",
          "name": "stderr",
          "text": [
            "/usr/local/lib/python3.7/dist-packages/sklearn/base.py:451: UserWarning: X does not have valid feature names, but GradientBoostingClassifier was fitted with feature names\n",
            "  \"X does not have valid feature names, but\"\n",
            "/usr/local/lib/python3.7/dist-packages/sklearn/base.py:451: UserWarning: X does not have valid feature names, but GradientBoostingClassifier was fitted with feature names\n",
            "  \"X does not have valid feature names, but\"\n"
          ]
        }
      ],
      "source": [
        "input1 = [1,2,4,4,2,1,4,5,1,3,1,1,3,5,5,6,3.25,1.0,2.50,2.0,2.25,2.75]\n",
        "input1 = np.reshape(input1, (-1, 22))\n",
        "output1 = get_result_Rf(input1)\n",
        "print(output1)"
      ]
    },
    {
      "cell_type": "code",
      "execution_count": 54,
      "metadata": {
        "id": "beMTL5jEsKW1",
        "colab": {
          "base_uri": "https://localhost:8080/"
        },
        "outputId": "d122f459-77bd-49c1-9aec-67cd09f9033c"
      },
      "outputs": [
        {
          "output_type": "stream",
          "name": "stdout",
          "text": [
            "[0]\n",
            "Chances of getting diagnosed with chronic condition is very Low \n"
          ]
        },
        {
          "output_type": "stream",
          "name": "stderr",
          "text": [
            "/usr/local/lib/python3.7/dist-packages/sklearn/base.py:451: UserWarning: X does not have valid feature names, but GradientBoostingClassifier was fitted with feature names\n",
            "  \"X does not have valid feature names, but\"\n",
            "/usr/local/lib/python3.7/dist-packages/sklearn/base.py:451: UserWarning: X does not have valid feature names, but GradientBoostingClassifier was fitted with feature names\n",
            "  \"X does not have valid feature names, but\"\n"
          ]
        }
      ],
      "source": [
        "input1 = [0,0,3,1,6,1,4,4,1,2,0,0,1,5,2,1,1.75,2.0,2.50,1.2,1.75,3.00]\n",
        "input1 = np.reshape(input1, (-1, 22))\n",
        "output1 = get_result_Rf(input1)\n",
        "print(output1)"
      ]
    }
  ],
  "metadata": {
    "colab": {
      "name": "SDOH_1 (1).ipynb",
      "provenance": []
    },
    "kernelspec": {
      "display_name": "Python 3 (ipykernel)",
      "language": "python",
      "name": "python3"
    },
    "language_info": {
      "codemirror_mode": {
        "name": "ipython",
        "version": 3
      },
      "file_extension": ".py",
      "mimetype": "text/x-python",
      "name": "python",
      "nbconvert_exporter": "python",
      "pygments_lexer": "ipython3",
      "version": "3.8.10"
    }
  },
  "nbformat": 4,
  "nbformat_minor": 0
}